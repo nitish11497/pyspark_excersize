{
 "cells": [
  {
   "cell_type": "code",
   "execution_count": 1,
   "id": "c8e5dae3-fece-499a-9c86-2f070d48f3fd",
   "metadata": {
    "tags": []
   },
   "outputs": [],
   "source": [
    "import findspark\n",
    "findspark.init()\n",
    "from pyspark.sql import SparkSession\n",
    "spark = SparkSession.builder.master('local[1]').appName('pyspark_fresh').getOrCreate()"
   ]
  },
  {
   "cell_type": "code",
   "execution_count": 2,
   "id": "7e42329b-178d-4b5c-9e4e-efcaf7c2c128",
   "metadata": {
    "tags": []
   },
   "outputs": [],
   "source": [
    "from pyspark.sql import Row"
   ]
  },
  {
   "cell_type": "code",
   "execution_count": 4,
   "id": "4e7de812-1c57-4212-b55b-23604c6a525d",
   "metadata": {
    "tags": []
   },
   "outputs": [],
   "source": [
    "import datetime\n",
    "data= [{\n",
    "    \"id\":1,\n",
    "    \"firstName\":\"Terry\",\n",
    "    \"lastName\":\"Medhurst\",\n",
    "    \"email\":\"atuny0@sohu.com\",\n",
    "    \"phone\":Row(phone_number = \"+63 791 675 8914\",mobile_number = \"+63 791 675 8945\"),\n",
    "    \"is_customer\" : True,\n",
    "    \"amount_paid\" : 10200,\n",
    "    \"customer_from\" : datetime.date(2022,3,10),\n",
    "    \"last_update_ts\" : datetime.datetime(2023,10,20, 15,0,45)\n",
    "},\n",
    "{\n",
    "    \"id\":2,\n",
    "    \"firstName\":\"Sheldon\",\n",
    "    \"lastName\":\"Quigley\",\n",
    "    \"email\":\"hbingley1@plala.or.jp\",\n",
    "    \"phone\":Row(phone_number=\"+7 813 117\",mobile_number=\"+7 813 119\"),\n",
    "    \"is_customer\" : True,\n",
    "    \"amount_paid\" : 11000,\n",
    "    \"customer_from\" : datetime.date(2022,5,16),\n",
    "    \"last_update_ts\" : datetime.datetime(2023,10,20, 15,0,45)\n",
    "},\n",
    "{\n",
    "    \"id\":3,\n",
    "    \"firstName\":\"Terrill\",\n",
    "    \"lastName\":\"Hills\",\n",
    "    \"email\":\"rshawe2@51.la\",\n",
    "    \"phone\":Row(phone_number=\"+63 739 292 7942\",mobile_number=\"+63 739 292 7943\"),\n",
    "    \"is_customer\" : True,\n",
    "    \"amount_paid\" : 24000,\n",
    "    \"customer_from\" : datetime.date(2022,4,11),\n",
    "    \"last_update_ts\" : datetime.datetime(2023,10,20, 15,0,45)\n",
    "},\n",
    "{\n",
    "    \"id\":4,\n",
    "    \"firstName\":\"Miles\",\n",
    "    \"lastName\":\"Cummerata\",\n",
    "    \"email\":\"yraigatt3@nature.com\",\n",
    "    \"phone\":Row(phone_number=None,mobile_number=None),\n",
    "    \"is_customer\" : False,\n",
    "    \"amount_paid\" : None,\n",
    "    \"customer_from\" : None,\n",
    "    \"last_update_ts\" : datetime.datetime(2023,10,20, 15,0,45)\n",
    "},\n",
    "{\n",
    "    \"id\":5,\n",
    "    \"firstName\":\"Mavis\",\n",
    "    \"lastName\":\"Schultz\",\n",
    "    \"email\":\"kmeus4@upenn.edu\",\n",
    "    \"phone\":Row(phone_number=\"+372 285 771 1911\",mobile_number=None),\n",
    "    \"is_customer\" : False,\n",
    "    \"amount_paid\" : None,\n",
    "    \"customer_from\" : None,\n",
    "    \"last_update_ts\" : datetime.datetime(2023,10,20, 15,0,45)\n",
    "}]"
   ]
  },
  {
   "cell_type": "code",
   "execution_count": 5,
   "id": "abcb2aff-cde4-499e-a20b-e1a40c0c34b0",
   "metadata": {
    "tags": []
   },
   "outputs": [],
   "source": [
    "df = spark.createDataFrame([Row(**user) for user in data])"
   ]
  },
  {
   "cell_type": "code",
   "execution_count": 6,
   "id": "74ae36b9-2eb6-49da-8418-9f2c64fd74ff",
   "metadata": {
    "tags": []
   },
   "outputs": [
    {
     "name": "stdout",
     "output_type": "stream",
     "text": [
      "+---+---------+---------+--------------------+--------------------+-----------+-----------+-------------+-------------------+\n",
      "| id|firstName| lastName|               email|               phone|is_customer|amount_paid|customer_from|     last_update_ts|\n",
      "+---+---------+---------+--------------------+--------------------+-----------+-----------+-------------+-------------------+\n",
      "|  1|    Terry| Medhurst|     atuny0@sohu.com|{+63 791 675 8914...|       true|      10200|   2022-03-10|2023-10-20 15:00:45|\n",
      "|  2|  Sheldon|  Quigley|hbingley1@plala.o...|{+7 813 117, +7 8...|       true|      11000|   2022-05-16|2023-10-20 15:00:45|\n",
      "|  3|  Terrill|    Hills|       rshawe2@51.la|{+63 739 292 7942...|       true|      24000|   2022-04-11|2023-10-20 15:00:45|\n",
      "|  4|    Miles|Cummerata|yraigatt3@nature.com|        {null, null}|      false|       null|         null|2023-10-20 15:00:45|\n",
      "|  5|    Mavis|  Schultz|    kmeus4@upenn.edu|{+372 285 771 191...|      false|       null|         null|2023-10-20 15:00:45|\n",
      "+---+---------+---------+--------------------+--------------------+-----------+-----------+-------------+-------------------+\n",
      "\n"
     ]
    }
   ],
   "source": [
    "df.show()"
   ]
  },
  {
   "cell_type": "code",
   "execution_count": 7,
   "id": "9db64605-183d-4c60-a6e0-d1873a6d23f5",
   "metadata": {
    "tags": []
   },
   "outputs": [
    {
     "data": {
      "text/plain": [
       "[('id', 'bigint'),\n",
       " ('firstName', 'string'),\n",
       " ('lastName', 'string'),\n",
       " ('email', 'string'),\n",
       " ('phone', 'struct<phone_number:string,mobile_number:string>'),\n",
       " ('is_customer', 'boolean'),\n",
       " ('amount_paid', 'bigint'),\n",
       " ('customer_from', 'date'),\n",
       " ('last_update_ts', 'timestamp')]"
      ]
     },
     "execution_count": 7,
     "metadata": {},
     "output_type": "execute_result"
    }
   ],
   "source": [
    "df.dtypes"
   ]
  },
  {
   "cell_type": "code",
   "execution_count": 8,
   "id": "9ea1bb41-b876-43ce-a619-0afdab95335b",
   "metadata": {
    "tags": []
   },
   "outputs": [
    {
     "name": "stdout",
     "output_type": "stream",
     "text": [
      "+---+------------------------------------+\n",
      "|id |phone                               |\n",
      "+---+------------------------------------+\n",
      "|1  |{+63 791 675 8914, +63 791 675 8945}|\n",
      "|2  |{+7 813 117, +7 813 119}            |\n",
      "|3  |{+63 739 292 7942, +63 739 292 7943}|\n",
      "|4  |{null, null}                        |\n",
      "|5  |{+372 285 771 1911, null}           |\n",
      "+---+------------------------------------+\n",
      "\n"
     ]
    }
   ],
   "source": [
    "df.select('id','phone').show(truncate=False)"
   ]
  },
  {
   "cell_type": "code",
   "execution_count": 9,
   "id": "dde26901-926d-4dac-be5e-1f8de19339ea",
   "metadata": {
    "tags": []
   },
   "outputs": [
    {
     "name": "stdout",
     "output_type": "stream",
     "text": [
      "+---+-----------------+----------------+\n",
      "| id|     phone_number|   mobile_number|\n",
      "+---+-----------------+----------------+\n",
      "|  1| +63 791 675 8914|+63 791 675 8945|\n",
      "|  2|       +7 813 117|      +7 813 119|\n",
      "|  3| +63 739 292 7942|+63 739 292 7943|\n",
      "|  4|             null|            null|\n",
      "|  5|+372 285 771 1911|            null|\n",
      "+---+-----------------+----------------+\n",
      "\n"
     ]
    }
   ],
   "source": [
    "df.select('id','phone.phone_number','phone.mobile_number').show()"
   ]
  },
  {
   "cell_type": "code",
   "execution_count": 11,
   "id": "583c3169-3de5-4c79-b6f0-dc0286bc1436",
   "metadata": {
    "tags": []
   },
   "outputs": [],
   "source": [
    "from pyspark.sql.functions import col"
   ]
  },
  {
   "cell_type": "code",
   "execution_count": 12,
   "id": "be679bb7-17a3-46e6-b2b4-fa52d5776e70",
   "metadata": {
    "tags": []
   },
   "outputs": [
    {
     "name": "stdout",
     "output_type": "stream",
     "text": [
      "+---+------------------+-------------------+\n",
      "| id|phone.phone_number|phone.mobile_number|\n",
      "+---+------------------+-------------------+\n",
      "|  1|  +63 791 675 8914|   +63 791 675 8945|\n",
      "|  2|        +7 813 117|         +7 813 119|\n",
      "|  3|  +63 739 292 7942|   +63 739 292 7943|\n",
      "|  4|              null|               null|\n",
      "|  5| +372 285 771 1911|               null|\n",
      "+---+------------------+-------------------+\n",
      "\n"
     ]
    }
   ],
   "source": [
    "df.select('id',col('phone')['phone_number'],col('phone')['mobile_number']).show()"
   ]
  },
  {
   "cell_type": "code",
   "execution_count": 14,
   "id": "bd1cb2af-507a-47fa-8176-e93c4aaa9e59",
   "metadata": {
    "tags": []
   },
   "outputs": [
    {
     "name": "stdout",
     "output_type": "stream",
     "text": [
      "+---+-----------------+----------------+\n",
      "| id|     phone_number|   mobile_number|\n",
      "+---+-----------------+----------------+\n",
      "|  1| +63 791 675 8914|+63 791 675 8945|\n",
      "|  2|       +7 813 117|      +7 813 119|\n",
      "|  3| +63 739 292 7942|+63 739 292 7943|\n",
      "|  4|             null|            null|\n",
      "|  5|+372 285 771 1911|            null|\n",
      "+---+-----------------+----------------+\n",
      "\n"
     ]
    }
   ],
   "source": [
    "df.select('id','phone.*').show()"
   ]
  },
  {
   "cell_type": "code",
   "execution_count": null,
   "id": "64276f8f-a2fb-49d1-907a-342ca65bd377",
   "metadata": {},
   "outputs": [],
   "source": []
  },
  {
   "cell_type": "code",
   "execution_count": null,
   "id": "840c11ab-d280-48ff-9b78-9fe561bd9d11",
   "metadata": {},
   "outputs": [],
   "source": []
  }
 ],
 "metadata": {
  "kernelspec": {
   "display_name": "Python 3 (ipykernel)",
   "language": "python",
   "name": "python3"
  },
  "language_info": {
   "codemirror_mode": {
    "name": "ipython",
    "version": 3
   },
   "file_extension": ".py",
   "mimetype": "text/x-python",
   "name": "python",
   "nbconvert_exporter": "python",
   "pygments_lexer": "ipython3",
   "version": "3.11.4"
  },
  "toc-autonumbering": true,
  "toc-showcode": true,
  "toc-showmarkdowntxt": true,
  "toc-showtags": true
 },
 "nbformat": 4,
 "nbformat_minor": 5
}
