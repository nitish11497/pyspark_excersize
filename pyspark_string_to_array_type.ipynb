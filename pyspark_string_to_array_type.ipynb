{
 "cells": [
  {
   "cell_type": "code",
   "execution_count": 1,
   "id": "357e0387-5ac5-43f6-afe5-8f6506a4c3a7",
   "metadata": {
    "tags": []
   },
   "outputs": [],
   "source": [
    "import findspark\n",
    "findspark.init()\n",
    "from pyspark.sql import SparkSession\n",
    "spark = SparkSession.builder.master('local[1]').appName('pyspark_fresh').getOrCreate()"
   ]
  },
  {
   "cell_type": "code",
   "execution_count": 2,
   "id": "8b54273d-07b3-47f4-b3da-7f9865b54cef",
   "metadata": {
    "tags": []
   },
   "outputs": [],
   "source": [
    "from pyspark.sql.functions import *\n",
    "from pyspark.sql.types import *"
   ]
  },
  {
   "cell_type": "code",
   "execution_count": 3,
   "id": "17d67a65-e7de-427d-ad9d-e5365a1b02d1",
   "metadata": {
    "tags": []
   },
   "outputs": [],
   "source": [
    "customers_schema = StructType([\n",
    "    StructField('Transaction_ID',       IntegerType(), nullable=True),\n",
    "    StructField('Date',TimestampType(), nullable=True),\n",
    "    StructField('Customer_Name',    StringType(), nullable=True),\n",
    "    StructField('Product',    StringType(), nullable=True),\n",
    "    StructField('Total_Items', IntegerType(), nullable=True),\n",
    "    StructField('Total_Cost',   DoubleType(), nullable=True),\n",
    "    StructField('Payment_Method',     StringType(), nullable=True),\n",
    "    StructField('City',    StringType(), nullable=True),\n",
    "    StructField('Store_Type',  StringType(), nullable=True),\n",
    "    StructField('Discount_Applied',  BooleanType(), nullable=True),\n",
    "    StructField('Customer_Category',  StringType(), nullable=True),\n",
    "    StructField('Season',  StringType(), nullable=True),\n",
    "    StructField('Promotion',  StringType(), nullable=True)\n",
    "])\n"
   ]
  },
  {
   "cell_type": "code",
   "execution_count": 4,
   "id": "19835224-3a02-4ebc-b72e-3467a7b066f0",
   "metadata": {
    "tags": []
   },
   "outputs": [],
   "source": [
    "# D:\\pyspark_jupyter_n\\data\\archive\\Retail_Transactions_Dataset.csv\n",
    "file_loc = 'D:/pyspark_jupyter_n/data/archive/'\n",
    "file_type = \"csv\"\n",
    "# file path\n",
    "customer_data =   file_loc + 'Retail_Transactions_Dataset.csv'\n",
    "# file options\n",
    "first_row_is_header = \"True\"\n",
    "delimiter = \",\"\n",
    "# create a dataframe using the above details\n",
    "customers_df = spark.read.format(file_type).option(\"header\", first_row_is_header).schema(customers_schema) .load(customer_data)"
   ]
  },
  {
   "cell_type": "code",
   "execution_count": 5,
   "id": "78261cd4-1b98-40c0-bcbe-53926c3f0787",
   "metadata": {
    "tags": []
   },
   "outputs": [],
   "source": [
    "# ndf = customers_df.select('Transaction_ID','Product')"
   ]
  },
  {
   "cell_type": "code",
   "execution_count": 6,
   "id": "8972eee9-c843-465a-a70a-5515bdd5b171",
   "metadata": {
    "tags": []
   },
   "outputs": [],
   "source": [
    "pll=[]\n",
    "for j in customers_df.rdd.collect():\n",
    "    # print(type(eval(j['Product'])))\n",
    "    pll.append(eval(j['Product']))"
   ]
  },
  {
   "cell_type": "code",
   "execution_count": 7,
   "id": "34ea8fe2-22b8-4ad4-8208-5d988e020049",
   "metadata": {
    "tags": []
   },
   "outputs": [],
   "source": [
    "pldf = spark.createDataFrame(pll,schema=ArrayType(StringType()))"
   ]
  },
  {
   "cell_type": "code",
   "execution_count": 8,
   "id": "37faec4b-408a-4286-a8b3-d481c8e50bd1",
   "metadata": {
    "tags": []
   },
   "outputs": [
    {
     "name": "stdout",
     "output_type": "stream",
     "text": [
      "root\n",
      " |-- value: array (nullable = true)\n",
      " |    |-- element: string (containsNull = true)\n",
      "\n"
     ]
    }
   ],
   "source": [
    "pldf.printSchema()"
   ]
  },
  {
   "cell_type": "code",
   "execution_count": 9,
   "id": "3b069089-4a16-4da3-b754-aa5341453a07",
   "metadata": {
    "tags": []
   },
   "outputs": [],
   "source": [
    "pldf = pldf.select(col('value').alias('Product_ar'))"
   ]
  },
  {
   "cell_type": "code",
   "execution_count": 10,
   "id": "c8040e07-9e8f-4b5b-b8ec-4aa4680c9272",
   "metadata": {
    "tags": []
   },
   "outputs": [],
   "source": [
    "from pyspark.sql.window import Window"
   ]
  },
  {
   "cell_type": "code",
   "execution_count": 27,
   "id": "4c01f6d0-27c1-401c-b6d2-d735beb61c3c",
   "metadata": {
    "tags": []
   },
   "outputs": [],
   "source": [
    "pldf=pldf.withColumn('row_index', row_number().over(Window.orderBy(monotonically_increasing_id())))\n",
    "customers_df=customers_df.withColumn('row_index', row_number().over(Window.orderBy(monotonically_increasing_id())))\n",
    "new_df = customers_df.join(pldf, on=[\"row_index\"]).drop(\"row_index\")\n",
    "# new_df.show()"
   ]
  },
  {
   "cell_type": "code",
   "execution_count": 28,
   "id": "d685f87b-7ae2-4f21-b3c4-6d299ba93ee3",
   "metadata": {
    "tags": []
   },
   "outputs": [],
   "source": [
    "new_df = new_df.drop('Product')"
   ]
  },
  {
   "cell_type": "code",
   "execution_count": 33,
   "id": "bc53b3c1-df5e-40ad-8ca1-34a90266de1f",
   "metadata": {
    "tags": []
   },
   "outputs": [],
   "source": [
    "# new_df = new_df.select('*',col('Product_ar').alias('Product')).drop('Product_ar')\n",
    "new_df = new_df.withColumnRenamed('Product_ar','Product')"
   ]
  },
  {
   "cell_type": "code",
   "execution_count": 34,
   "id": "572abf48-0225-41e5-8341-1751a998b7d3",
   "metadata": {
    "tags": []
   },
   "outputs": [
    {
     "name": "stdout",
     "output_type": "stream",
     "text": [
      "root\n",
      " |-- Transaction_ID: integer (nullable = true)\n",
      " |-- Date: timestamp (nullable = true)\n",
      " |-- Customer_Name: string (nullable = true)\n",
      " |-- Total_Items: integer (nullable = true)\n",
      " |-- Total_Cost: double (nullable = true)\n",
      " |-- Payment_Method: string (nullable = true)\n",
      " |-- City: string (nullable = true)\n",
      " |-- Store_Type: string (nullable = true)\n",
      " |-- Discount_Applied: boolean (nullable = true)\n",
      " |-- Customer_Category: string (nullable = true)\n",
      " |-- Season: string (nullable = true)\n",
      " |-- Promotion: string (nullable = true)\n",
      " |-- Product: array (nullable = true)\n",
      " |    |-- element: string (containsNull = true)\n",
      "\n"
     ]
    }
   ],
   "source": [
    "new_df.printSchema()"
   ]
  },
  {
   "cell_type": "code",
   "execution_count": null,
   "id": "8a79536c-fc10-4164-80a7-83ec382d5661",
   "metadata": {},
   "outputs": [],
   "source": []
  }
 ],
 "metadata": {
  "kernelspec": {
   "display_name": "Python 3 (ipykernel)",
   "language": "python",
   "name": "python3"
  },
  "language_info": {
   "codemirror_mode": {
    "name": "ipython",
    "version": 3
   },
   "file_extension": ".py",
   "mimetype": "text/x-python",
   "name": "python",
   "nbconvert_exporter": "python",
   "pygments_lexer": "ipython3",
   "version": "3.11.4"
  }
 },
 "nbformat": 4,
 "nbformat_minor": 5
}
