{
 "cells": [
  {
   "cell_type": "code",
   "execution_count": 1,
   "id": "6f0f4481-8894-4ea1-9ddb-a7908a95c1e8",
   "metadata": {
    "tags": []
   },
   "outputs": [],
   "source": [
    "import findspark\n",
    "findspark.init()"
   ]
  },
  {
   "cell_type": "code",
   "execution_count": 2,
   "id": "e4451431-eb6d-49d3-bcef-dbe2d11afb6f",
   "metadata": {
    "tags": []
   },
   "outputs": [],
   "source": [
    "from pyspark.sql import SparkSession"
   ]
  },
  {
   "cell_type": "code",
   "execution_count": 4,
   "id": "222b809f-17ba-49b9-913f-673b4623c12b",
   "metadata": {
    "tags": []
   },
   "outputs": [],
   "source": [
    "spark = SparkSession.builder.master('local[1]').appName('pyspark_fresh').getOrCreate()"
   ]
  },
  {
   "cell_type": "code",
   "execution_count": 5,
   "id": "5b3991f0-1848-4bce-809f-4cad27b9c5c7",
   "metadata": {
    "tags": []
   },
   "outputs": [],
   "source": [
    "user_list = [(1,'Raju'),(2,'shyam'),(3,'gopi'),(4,'arun'),(5,'sidhu'),(6,'vashu')]"
   ]
  },
  {
   "cell_type": "code",
   "execution_count": 6,
   "id": "bff129b3-cb4d-4c30-a83b-abee26cc731f",
   "metadata": {
    "tags": []
   },
   "outputs": [
    {
     "data": {
      "text/plain": [
       "DataFrame[_1: bigint, _2: string]"
      ]
     },
     "execution_count": 6,
     "metadata": {},
     "output_type": "execute_result"
    }
   ],
   "source": [
    "spark.createDataFrame(user_list)"
   ]
  },
  {
   "cell_type": "code",
   "execution_count": 7,
   "id": "89af699c-a8d0-4e5b-b2e6-4c23f656105f",
   "metadata": {
    "tags": []
   },
   "outputs": [
    {
     "data": {
      "text/plain": [
       "DataFrame[id: int, name: string]"
      ]
     },
     "execution_count": 7,
     "metadata": {},
     "output_type": "execute_result"
    }
   ],
   "source": [
    "spark.createDataFrame(user_list,'id int,name string')"
   ]
  },
  {
   "cell_type": "code",
   "execution_count": 8,
   "id": "3c6fe2cb-9fb1-4830-80e4-86da1623ffdf",
   "metadata": {
    "tags": []
   },
   "outputs": [
    {
     "name": "stdout",
     "output_type": "stream",
     "text": [
      "+---+-----+\n",
      "| id| name|\n",
      "+---+-----+\n",
      "|  1| Raju|\n",
      "|  2|shyam|\n",
      "|  3| gopi|\n",
      "|  4| arun|\n",
      "|  5|sidhu|\n",
      "|  6|vashu|\n",
      "+---+-----+\n",
      "\n"
     ]
    }
   ],
   "source": [
    "spark.createDataFrame(user_list,'id int,name string').show()"
   ]
  },
  {
   "cell_type": "code",
   "execution_count": 9,
   "id": "e1af3f4d-33a4-4441-b36f-ef83ec66011c",
   "metadata": {
    "tags": []
   },
   "outputs": [],
   "source": [
    "df =spark.createDataFrame(user_list,'id int,name string')"
   ]
  },
  {
   "cell_type": "code",
   "execution_count": 10,
   "id": "cdabac49-357f-43a6-8c5f-c691f5438cc7",
   "metadata": {
    "tags": []
   },
   "outputs": [
    {
     "data": {
      "text/plain": [
       "[Row(id=1, name='Raju'),\n",
       " Row(id=2, name='shyam'),\n",
       " Row(id=3, name='gopi'),\n",
       " Row(id=4, name='arun'),\n",
       " Row(id=5, name='sidhu'),\n",
       " Row(id=6, name='vashu')]"
      ]
     },
     "execution_count": 10,
     "metadata": {},
     "output_type": "execute_result"
    }
   ],
   "source": [
    "df.collect()"
   ]
  },
  {
   "cell_type": "markdown",
   "id": "24f09e2f-c2b3-42ac-860a-fa6986e4d242",
   "metadata": {},
   "source": [
    "## Create DataFrame List of List"
   ]
  },
  {
   "cell_type": "code",
   "execution_count": 11,
   "id": "768ca029-bf92-49cf-a2e0-a9abacca2eab",
   "metadata": {
    "tags": []
   },
   "outputs": [],
   "source": [
    "user_list = [[1,'Raju'],[2,'shyam'],[3,'gopi'],[4,'arun'],[5,'sidhu'],[6,'vashu']]"
   ]
  },
  {
   "cell_type": "code",
   "execution_count": 12,
   "id": "b832bbec-6afd-4031-875f-cffaedf22c69",
   "metadata": {
    "tags": []
   },
   "outputs": [
    {
     "data": {
      "text/plain": [
       "DataFrame[_1: bigint, _2: string]"
      ]
     },
     "execution_count": 12,
     "metadata": {},
     "output_type": "execute_result"
    }
   ],
   "source": [
    "spark.createDataFrame(user_list)"
   ]
  },
  {
   "cell_type": "code",
   "execution_count": 13,
   "id": "0e0554f4-125e-4067-8b6b-a5cdca099729",
   "metadata": {
    "tags": []
   },
   "outputs": [
    {
     "data": {
      "text/plain": [
       "DataFrame[id: int, name: string]"
      ]
     },
     "execution_count": 13,
     "metadata": {},
     "output_type": "execute_result"
    }
   ],
   "source": [
    "spark.createDataFrame(user_list,'id int,name string')"
   ]
  },
  {
   "cell_type": "code",
   "execution_count": 14,
   "id": "4f83f3b7-0261-4d10-993c-5517cd82c414",
   "metadata": {
    "tags": []
   },
   "outputs": [
    {
     "name": "stdout",
     "output_type": "stream",
     "text": [
      "+---+-----+\n",
      "| id| name|\n",
      "+---+-----+\n",
      "|  1| Raju|\n",
      "|  2|shyam|\n",
      "|  3| gopi|\n",
      "|  4| arun|\n",
      "|  5|sidhu|\n",
      "|  6|vashu|\n",
      "+---+-----+\n",
      "\n"
     ]
    }
   ],
   "source": [
    "spark.createDataFrame(user_list,'id int,name string').show()"
   ]
  },
  {
   "cell_type": "code",
   "execution_count": 15,
   "id": "eee5f0cc-4cd1-4919-a529-8cc0d1f5a9d8",
   "metadata": {
    "tags": []
   },
   "outputs": [],
   "source": [
    "from pyspark.sql import Row"
   ]
  },
  {
   "cell_type": "code",
   "execution_count": 16,
   "id": "7bacd97d-1565-4525-a3e0-e8572d1c0304",
   "metadata": {
    "tags": []
   },
   "outputs": [],
   "source": [
    "user_row = [Row(*user) for user in user_list]"
   ]
  },
  {
   "cell_type": "code",
   "execution_count": 17,
   "id": "cf33e3a7-60c0-4953-accd-1a1760aaf981",
   "metadata": {
    "tags": []
   },
   "outputs": [
    {
     "data": {
      "text/plain": [
       "[<Row(1, 'Raju')>,\n",
       " <Row(2, 'shyam')>,\n",
       " <Row(3, 'gopi')>,\n",
       " <Row(4, 'arun')>,\n",
       " <Row(5, 'sidhu')>,\n",
       " <Row(6, 'vashu')>]"
      ]
     },
     "execution_count": 17,
     "metadata": {},
     "output_type": "execute_result"
    }
   ],
   "source": [
    "user_row"
   ]
  },
  {
   "cell_type": "code",
   "execution_count": 18,
   "id": "926e304e-10e2-4728-a131-50849c0f321d",
   "metadata": {
    "tags": []
   },
   "outputs": [
    {
     "data": {
      "text/plain": [
       "DataFrame[_1: bigint, _2: string]"
      ]
     },
     "execution_count": 18,
     "metadata": {},
     "output_type": "execute_result"
    }
   ],
   "source": [
    "spark.createDataFrame(user_row)"
   ]
  },
  {
   "cell_type": "code",
   "execution_count": 19,
   "id": "e8f2f9fa-1224-4018-8bb1-e74a937f1096",
   "metadata": {
    "tags": []
   },
   "outputs": [
    {
     "name": "stdout",
     "output_type": "stream",
     "text": [
      "+---+-----+\n",
      "| _1|   _2|\n",
      "+---+-----+\n",
      "|  1| Raju|\n",
      "|  2|shyam|\n",
      "|  3| gopi|\n",
      "|  4| arun|\n",
      "|  5|sidhu|\n",
      "|  6|vashu|\n",
      "+---+-----+\n",
      "\n"
     ]
    }
   ],
   "source": [
    "spark.createDataFrame(user_row).show()"
   ]
  },
  {
   "cell_type": "code",
   "execution_count": 20,
   "id": "15219bf3-3998-4b06-b098-f33877a0b626",
   "metadata": {
    "tags": []
   },
   "outputs": [
    {
     "name": "stdout",
     "output_type": "stream",
     "text": [
      "+---+-----+\n",
      "| id| name|\n",
      "+---+-----+\n",
      "|  1| Raju|\n",
      "|  2|shyam|\n",
      "|  3| gopi|\n",
      "|  4| arun|\n",
      "|  5|sidhu|\n",
      "|  6|vashu|\n",
      "+---+-----+\n",
      "\n"
     ]
    }
   ],
   "source": [
    "spark.createDataFrame(user_row,'id int,name string').show()"
   ]
  },
  {
   "cell_type": "code",
   "execution_count": null,
   "id": "55f596b4-5b2c-4bfe-805d-fa4442d86b1c",
   "metadata": {},
   "outputs": [],
   "source": []
  }
 ],
 "metadata": {
  "kernelspec": {
   "display_name": "Python 3 (ipykernel)",
   "language": "python",
   "name": "python3"
  },
  "language_info": {
   "codemirror_mode": {
    "name": "ipython",
    "version": 3
   },
   "file_extension": ".py",
   "mimetype": "text/x-python",
   "name": "python",
   "nbconvert_exporter": "python",
   "pygments_lexer": "ipython3",
   "version": "3.11.4"
  }
 },
 "nbformat": 4,
 "nbformat_minor": 5
}
