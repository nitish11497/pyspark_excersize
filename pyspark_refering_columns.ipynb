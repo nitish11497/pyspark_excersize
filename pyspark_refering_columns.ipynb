{
 "cells": [
  {
   "cell_type": "code",
   "execution_count": 1,
   "id": "fd834573-fdc4-4351-94b3-629c2eb68a4e",
   "metadata": {
    "tags": []
   },
   "outputs": [],
   "source": [
    "import findspark\n",
    "findspark.init()\n",
    "from pyspark.sql import SparkSession\n",
    "spark = SparkSession.builder.master('local[1]').appName('pyspark_fresh').getOrCreate()"
   ]
  },
  {
   "cell_type": "code",
   "execution_count": 3,
   "id": "c25d90e9-81b1-4ae8-8fb7-6859670425e5",
   "metadata": {
    "tags": []
   },
   "outputs": [],
   "source": [
    "import datetime\n",
    "data= [{\n",
    "    \"id\":1,\n",
    "    \"firstName\":\"Terry\",\n",
    "    \"lastName\":\"Medhurst\",\n",
    "    \"email\":\"atuny0@sohu.com\",\n",
    "    \"phone\":Row(phone_number = \"+63 791 675 8914\",mobile_number = \"+63 791 675 8945\"),\n",
    "    \"courses\" : [1,2],\n",
    "    \"is_customer\" : True,\n",
    "    \"amount_paid\" : 10200,\n",
    "    \"customer_from\" : datetime.date(2022,3,10),\n",
    "    \"last_update_ts\" : datetime.datetime(2023,10,20, 15,0,45)\n",
    "},\n",
    "{\n",
    "    \"id\":2,\n",
    "    \"firstName\":\"Sheldon\",\n",
    "    \"lastName\":\"Quigley\",\n",
    "    \"email\":\"hbingley1@plala.or.jp\",\n",
    "    \"phone\":Row(phone_number=\"+7 813 117\",mobile_number=\"+7 813 119\"),\n",
    "    \"courses\" : [3],\n",
    "    \"is_customer\" : True,\n",
    "    \"amount_paid\" : 11000,\n",
    "    \"customer_from\" : datetime.date(2022,5,16),\n",
    "    \"last_update_ts\" : datetime.datetime(2023,10,20, 15,0,45)\n",
    "},\n",
    "{\n",
    "    \"id\":3,\n",
    "    \"firstName\":\"Terrill\",\n",
    "    \"lastName\":\"Hills\",\n",
    "    \"email\":\"rshawe2@51.la\",\n",
    "    \"phone\":Row(phone_number=\"+63 739 292 7942\",mobile_number=\"+63 739 292 7943\"),\n",
    "    \"courses\" : [2,4],\n",
    "    \"is_customer\" : True,\n",
    "    \"amount_paid\" : 24000,\n",
    "    \"customer_from\" : datetime.date(2022,4,11),\n",
    "    \"last_update_ts\" : datetime.datetime(2023,10,20, 15,0,45)\n",
    "},\n",
    "{\n",
    "    \"id\":4,\n",
    "    \"firstName\":\"Miles\",\n",
    "    \"lastName\":\"Cummerata\",\n",
    "    \"email\":\"yraigatt3@nature.com\",\n",
    "    \"phone\":Row(phone_number=None,mobile_number=None),\n",
    "    \"courses\" : [],\n",
    "    \"is_customer\" : False,\n",
    "    \"amount_paid\" : None,\n",
    "    \"customer_from\" : None,\n",
    "    \"last_update_ts\" : datetime.datetime(2023,10,20, 15,0,45)\n",
    "},\n",
    "{\n",
    "    \"id\":5,\n",
    "    \"firstName\":\"Mavis\",\n",
    "    \"lastName\":\"Schultz\",\n",
    "    \"email\":\"kmeus4@upenn.edu\",\n",
    "    \"phone\":Row(phone_number=\"+372 285 771 1911\",mobile_number=None),\n",
    "    \"courses\" : [],\n",
    "    \"is_customer\" : False,\n",
    "    \"amount_paid\" : None,\n",
    "    \"customer_from\" : None,\n",
    "    \"last_update_ts\" : datetime.datetime(2023,10,20, 15,0,45)\n",
    "}]"
   ]
  },
  {
   "cell_type": "code",
   "execution_count": 4,
   "id": "536cbdfb-69a9-45fe-bd06-948520bddf3c",
   "metadata": {
    "tags": []
   },
   "outputs": [],
   "source": [
    "import pandas as pd"
   ]
  },
  {
   "cell_type": "code",
   "execution_count": 5,
   "id": "6fa42817-355f-46da-a7b7-6613412eac6b",
   "metadata": {
    "tags": []
   },
   "outputs": [],
   "source": [
    "df = spark.createDataFrame(pd.DataFrame(data))"
   ]
  },
  {
   "cell_type": "code",
   "execution_count": 8,
   "id": "dafc34a4-3756-468b-84f2-63df3172ca44",
   "metadata": {
    "tags": []
   },
   "outputs": [],
   "source": [
    "from pyspark.sql.functions import col"
   ]
  },
  {
   "cell_type": "code",
   "execution_count": 6,
   "id": "7a39d97b-0b56-4d47-8f13-6fffe914ba20",
   "metadata": {
    "tags": []
   },
   "outputs": [
    {
     "data": {
      "text/plain": [
       "Column<'id'>"
      ]
     },
     "execution_count": 6,
     "metadata": {},
     "output_type": "execute_result"
    }
   ],
   "source": [
    "df['id']"
   ]
  },
  {
   "cell_type": "code",
   "execution_count": 10,
   "id": "2f8c21de-8296-477e-8060-82dce3a43c56",
   "metadata": {
    "tags": []
   },
   "outputs": [
    {
     "data": {
      "text/plain": [
       "Column<'id'>"
      ]
     },
     "execution_count": 10,
     "metadata": {},
     "output_type": "execute_result"
    }
   ],
   "source": [
    "col('id')"
   ]
  },
  {
   "cell_type": "code",
   "execution_count": 11,
   "id": "95c5155e-48f9-44fd-9459-1a0ac72f9213",
   "metadata": {
    "tags": []
   },
   "outputs": [
    {
     "data": {
      "text/plain": [
       "pyspark.sql.column.Column"
      ]
     },
     "execution_count": 11,
     "metadata": {},
     "output_type": "execute_result"
    }
   ],
   "source": [
    "type(df['id'])"
   ]
  },
  {
   "cell_type": "code",
   "execution_count": 12,
   "id": "2d25454e-8403-4b1e-8900-a689f41c4020",
   "metadata": {
    "tags": []
   },
   "outputs": [
    {
     "data": {
      "text/plain": [
       "pyspark.sql.column.Column"
      ]
     },
     "execution_count": 12,
     "metadata": {},
     "output_type": "execute_result"
    }
   ],
   "source": [
    "type(col('id'))"
   ]
  },
  {
   "cell_type": "code",
   "execution_count": 13,
   "id": "d472b1c0-64ff-4012-92e0-92607a34d53c",
   "metadata": {
    "tags": []
   },
   "outputs": [
    {
     "name": "stdout",
     "output_type": "stream",
     "text": [
      "+---+---------+---------+\n",
      "| id|firstName| lastName|\n",
      "+---+---------+---------+\n",
      "|  1|    Terry| Medhurst|\n",
      "|  2|  Sheldon|  Quigley|\n",
      "|  3|  Terrill|    Hills|\n",
      "|  4|    Miles|Cummerata|\n",
      "|  5|    Mavis|  Schultz|\n",
      "+---+---------+---------+\n",
      "\n"
     ]
    }
   ],
   "source": [
    "df.select(df['id'],col('firstName'),'lastName').show()"
   ]
  },
  {
   "cell_type": "code",
   "execution_count": 15,
   "id": "ebeb70b9-0670-480f-a5ac-a78f718d510b",
   "metadata": {
    "tags": []
   },
   "outputs": [
    {
     "name": "stdout",
     "output_type": "stream",
     "text": [
      "+---+---------+---------+\n",
      "| id|firstName| lastName|\n",
      "+---+---------+---------+\n",
      "|  1|    Terry| Medhurst|\n",
      "|  2|  Sheldon|  Quigley|\n",
      "|  3|  Terrill|    Hills|\n",
      "|  4|    Miles|Cummerata|\n",
      "|  5|    Mavis|  Schultz|\n",
      "+---+---------+---------+\n",
      "\n"
     ]
    }
   ],
   "source": [
    "df.alias('u').select('u.id',col('firstName'),'lastName').show()"
   ]
  },
  {
   "cell_type": "code",
   "execution_count": 16,
   "id": "ee240737-68d7-47b6-8cc6-7e5f98877c94",
   "metadata": {
    "tags": []
   },
   "outputs": [],
   "source": [
    "from pyspark.sql.functions import col,concat,lit"
   ]
  },
  {
   "cell_type": "code",
   "execution_count": 19,
   "id": "e5454c8b-22aa-4829-ae40-e7c0951b6a5d",
   "metadata": {
    "tags": []
   },
   "outputs": [
    {
     "name": "stdout",
     "output_type": "stream",
     "text": [
      "+---+---------+---------+---------------+\n",
      "| id|firstName| lastName|       fullName|\n",
      "+---+---------+---------+---------------+\n",
      "|  1|    Terry| Medhurst| Terry-Medhurst|\n",
      "|  2|  Sheldon|  Quigley|Sheldon-Quigley|\n",
      "|  3|  Terrill|    Hills|  Terrill-Hills|\n",
      "|  4|    Miles|Cummerata|Miles-Cummerata|\n",
      "|  5|    Mavis|  Schultz|  Mavis-Schultz|\n",
      "+---+---------+---------+---------------+\n",
      "\n"
     ]
    }
   ],
   "source": [
    "df.select('id','firstName','lastName',concat(df['firstName'],lit('-'),col('lastName')).alias('fullName')).show()"
   ]
  },
  {
   "cell_type": "code",
   "execution_count": 20,
   "id": "716de4fa-49ec-4782-aea0-55f2a430925e",
   "metadata": {
    "tags": []
   },
   "outputs": [
    {
     "name": "stdout",
     "output_type": "stream",
     "text": [
      "+---+---------+---------+----------------+\n",
      "| id|firstName| lastName|        fullName|\n",
      "+---+---------+---------+----------------+\n",
      "|  1|    Terry| Medhurst| Terry, Medhurst|\n",
      "|  2|  Sheldon|  Quigley|Sheldon, Quigley|\n",
      "|  3|  Terrill|    Hills|  Terrill, Hills|\n",
      "|  4|    Miles|Cummerata|Miles, Cummerata|\n",
      "|  5|    Mavis|  Schultz|  Mavis, Schultz|\n",
      "+---+---------+---------+----------------+\n",
      "\n"
     ]
    }
   ],
   "source": [
    "df.alias('u').selectExpr('id','firstName','lastName',\"concat(u.firstName,', ',u.lastName) AS fullName\").show()"
   ]
  },
  {
   "cell_type": "code",
   "execution_count": 21,
   "id": "774446f9-16da-40ba-9928-dc251c6580b8",
   "metadata": {
    "tags": []
   },
   "outputs": [],
   "source": [
    "df.createOrReplaceTempView('users')"
   ]
  },
  {
   "cell_type": "code",
   "execution_count": 25,
   "id": "08663a9a-1783-478e-ac75-a96f4b30a6d5",
   "metadata": {
    "tags": []
   },
   "outputs": [
    {
     "name": "stdout",
     "output_type": "stream",
     "text": [
      "+---+---------+---------+----------------+\n",
      "| id|firstName| lastName|        fullName|\n",
      "+---+---------+---------+----------------+\n",
      "|  1|    Terry| Medhurst| Terry, Medhurst|\n",
      "|  2|  Sheldon|  Quigley|Sheldon, Quigley|\n",
      "|  3|  Terrill|    Hills|  Terrill, Hills|\n",
      "|  4|    Miles|Cummerata|Miles, Cummerata|\n",
      "|  5|    Mavis|  Schultz|  Mavis, Schultz|\n",
      "+---+---------+---------+----------------+\n",
      "\n"
     ]
    }
   ],
   "source": [
    "spark.sql(\"\"\"\n",
    "SELECT id,firstName,lastName,\n",
    "concat(u.firstName,', ',u.lastName) AS fullName\n",
    "From users AS u\n",
    "\"\"\").show()"
   ]
  },
  {
   "cell_type": "markdown",
   "id": "0fe09cd8-fa70-43d9-b97a-b5fa2effac24",
   "metadata": {},
   "source": [
    "### col function Other uses -"
   ]
  },
  {
   "cell_type": "markdown",
   "id": "ccdd1f76-8c46-4f83-948a-fd7cf6546fff",
   "metadata": {},
   "source": [
    "## There are quite a few function available on top of column type\n",
    "    cost(can be used on all important dataframe functions such as select, filter, groupby, orderby etc)\n",
    "    asc,dsc(typically used as part of sort or orderBy)\n",
    "    contains( typically used as filter or where)"
   ]
  },
  {
   "cell_type": "code",
   "execution_count": 26,
   "id": "c6ffdce5-61cd-4708-9cc7-09f861bcaf6b",
   "metadata": {
    "tags": []
   },
   "outputs": [
    {
     "name": "stdout",
     "output_type": "stream",
     "text": [
      "+---+-------------+\n",
      "| id|customer_from|\n",
      "+---+-------------+\n",
      "|  1|   2022-03-10|\n",
      "|  2|   2022-05-16|\n",
      "|  3|   2022-04-11|\n",
      "|  4|         null|\n",
      "|  5|         null|\n",
      "+---+-------------+\n",
      "\n"
     ]
    }
   ],
   "source": [
    "df.select('id','customer_from').show()"
   ]
  },
  {
   "cell_type": "code",
   "execution_count": 28,
   "id": "601b3241-614d-493b-ae6f-a403bd2666d9",
   "metadata": {
    "tags": []
   },
   "outputs": [],
   "source": [
    "from pyspark.sql.functions import date_format"
   ]
  },
  {
   "cell_type": "code",
   "execution_count": 29,
   "id": "d4ffbce6-5751-4abd-aaa8-5fc5cf1ed1e0",
   "metadata": {
    "tags": []
   },
   "outputs": [
    {
     "name": "stdout",
     "output_type": "stream",
     "text": [
      "+---+------------------------------------+\n",
      "| id|date_format(customer_from, yyyyMMdd)|\n",
      "+---+------------------------------------+\n",
      "|  1|                            20220310|\n",
      "|  2|                            20220516|\n",
      "|  3|                            20220411|\n",
      "|  4|                                null|\n",
      "|  5|                                null|\n",
      "+---+------------------------------------+\n",
      "\n"
     ]
    }
   ],
   "source": [
    "df.select(col('id'),date_format('customer_from','yyyyMMdd')).show()"
   ]
  },
  {
   "cell_type": "code",
   "execution_count": 30,
   "id": "853f12d7-dbce-4b08-b821-a984f52e9494",
   "metadata": {
    "tags": []
   },
   "outputs": [
    {
     "name": "stdout",
     "output_type": "stream",
     "text": [
      "+---+-------------+\n",
      "| id|customer_from|\n",
      "+---+-------------+\n",
      "|  1|     20220310|\n",
      "|  2|     20220516|\n",
      "|  3|     20220411|\n",
      "|  4|         null|\n",
      "|  5|         null|\n",
      "+---+-------------+\n",
      "\n"
     ]
    }
   ],
   "source": [
    "df.select(col('id'),date_format('customer_from','yyyyMMdd').alias('customer_from')).show()"
   ]
  },
  {
   "cell_type": "code",
   "execution_count": 33,
   "id": "2e53e916-ef4f-4c0d-b469-acbcbfe0f1fb",
   "metadata": {
    "tags": []
   },
   "outputs": [
    {
     "name": "stdout",
     "output_type": "stream",
     "text": [
      "+---+-------------+\n",
      "| id|customer_from|\n",
      "+---+-------------+\n",
      "|  1|     20220310|\n",
      "|  2|     20220516|\n",
      "|  3|     20220411|\n",
      "|  4|         null|\n",
      "|  5|         null|\n",
      "+---+-------------+\n",
      "\n"
     ]
    }
   ],
   "source": [
    "df.select(col('id'),date_format('customer_from','yyyyMMdd').cast('int').alias('customer_from')).show()"
   ]
  },
  {
   "cell_type": "code",
   "execution_count": 35,
   "id": "fa8734ad-6da1-441d-99c3-1bc3bd08f653",
   "metadata": {
    "tags": []
   },
   "outputs": [
    {
     "name": "stdout",
     "output_type": "stream",
     "text": [
      "+---+-------------+\n",
      "| id|customer_from|\n",
      "+---+-------------+\n",
      "|  1|     20220310|\n",
      "|  2|     20220516|\n",
      "|  3|     20220411|\n",
      "|  4|         null|\n",
      "|  5|         null|\n",
      "+---+-------------+\n",
      "\n"
     ]
    }
   ],
   "source": [
    "cols = [col('id'),date_format('customer_from','yyyyMMdd').cast('int').alias('customer_from')]\n",
    "\n",
    "df.select(*cols).show()"
   ]
  },
  {
   "cell_type": "code",
   "execution_count": 36,
   "id": "48b55e62-5efd-47a2-911c-e0e9320cc040",
   "metadata": {
    "tags": []
   },
   "outputs": [
    {
     "name": "stdout",
     "output_type": "stream",
     "text": [
      "+---+-------------+\n",
      "| id|customer_from|\n",
      "+---+-------------+\n",
      "|  1|     20220310|\n",
      "|  2|     20220516|\n",
      "|  3|     20220411|\n",
      "|  4|         null|\n",
      "|  5|         null|\n",
      "+---+-------------+\n",
      "\n"
     ]
    }
   ],
   "source": [
    "df.select(cols).show()"
   ]
  },
  {
   "cell_type": "code",
   "execution_count": null,
   "id": "832f72ec-cd43-4332-a12f-e221d464f094",
   "metadata": {},
   "outputs": [],
   "source": []
  }
 ],
 "metadata": {
  "kernelspec": {
   "display_name": "Python 3 (ipykernel)",
   "language": "python",
   "name": "python3"
  },
  "language_info": {
   "codemirror_mode": {
    "name": "ipython",
    "version": 3
   },
   "file_extension": ".py",
   "mimetype": "text/x-python",
   "name": "python",
   "nbconvert_exporter": "python",
   "pygments_lexer": "ipython3",
   "version": "3.11.4"
  }
 },
 "nbformat": 4,
 "nbformat_minor": 5
}
