{
 "cells": [
  {
   "cell_type": "code",
   "execution_count": 1,
   "id": "21ba7824-6eb9-4032-a922-15f43ee39fd8",
   "metadata": {
    "tags": []
   },
   "outputs": [],
   "source": [
    "import findspark\n",
    "findspark.init()\n",
    "from pyspark.sql import SparkSession\n",
    "spark = SparkSession.builder.master('local[1]').appName('pyspark_fresh').getOrCreate()"
   ]
  },
  {
   "cell_type": "code",
   "execution_count": 3,
   "id": "3f3ce642-6ec6-485f-b0ce-ab3b5f499f79",
   "metadata": {
    "tags": []
   },
   "outputs": [],
   "source": [
    "from pyspark.sql import Row"
   ]
  },
  {
   "cell_type": "code",
   "execution_count": 4,
   "id": "eded91b8-130e-4758-b68d-f94d87e49601",
   "metadata": {
    "tags": []
   },
   "outputs": [],
   "source": [
    "import datetime\n",
    "data= [{\n",
    "    \"id\":1,\n",
    "    \"firstName\":\"Terry\",\n",
    "    \"lastName\":\"Medhurst\",\n",
    "    \"email\":\"atuny0@sohu.com\",\n",
    "    \"phone\":Row(phone_number = \"+63 791 675 8914\",mobile_number = \"+63 791 675 8945\"),\n",
    "    \"courses\" : [1,2],\n",
    "    \"is_customer\" : True,\n",
    "    \"amount_paid\" : 10200,\n",
    "    \"customer_from\" : datetime.date(2022,3,10),\n",
    "    \"last_update_ts\" : datetime.datetime(2023,10,20, 15,0,45)\n",
    "},\n",
    "{\n",
    "    \"id\":2,\n",
    "    \"firstName\":\"Sheldon\",\n",
    "    \"lastName\":\"Quigley\",\n",
    "    \"email\":\"hbingley1@plala.or.jp\",\n",
    "    \"phone\":Row(phone_number=\"+7 813 117\",mobile_number=\"+7 813 119\"),\n",
    "    \"courses\" : [3],\n",
    "    \"is_customer\" : True,\n",
    "    \"amount_paid\" : 11000,\n",
    "    \"customer_from\" : datetime.date(2022,5,16),\n",
    "    \"last_update_ts\" : datetime.datetime(2023,10,20, 15,0,45)\n",
    "},\n",
    "{\n",
    "    \"id\":3,\n",
    "    \"firstName\":\"Terrill\",\n",
    "    \"lastName\":\"Hills\",\n",
    "    \"email\":\"rshawe2@51.la\",\n",
    "    \"phone\":Row(phone_number=\"+63 739 292 7942\",mobile_number=\"+63 739 292 7943\"),\n",
    "    \"courses\" : [2,4],\n",
    "    \"is_customer\" : True,\n",
    "    \"amount_paid\" : 24000,\n",
    "    \"customer_from\" : datetime.date(2022,4,11),\n",
    "    \"last_update_ts\" : datetime.datetime(2023,10,20, 15,0,45)\n",
    "},\n",
    "{\n",
    "    \"id\":4,\n",
    "    \"firstName\":\"Miles\",\n",
    "    \"lastName\":\"Cummerata\",\n",
    "    \"email\":\"yraigatt3@nature.com\",\n",
    "    \"phone\":Row(phone_number=None,mobile_number=None),\n",
    "    \"courses\" : [],\n",
    "    \"is_customer\" : False,\n",
    "    \"amount_paid\" : None,\n",
    "    \"customer_from\" : None,\n",
    "    \"last_update_ts\" : datetime.datetime(2023,10,20, 15,0,45)\n",
    "},\n",
    "{\n",
    "    \"id\":5,\n",
    "    \"firstName\":\"Mavis\",\n",
    "    \"lastName\":\"Schultz\",\n",
    "    \"email\":\"kmeus4@upenn.edu\",\n",
    "    \"phone\":Row(phone_number=\"+372 285 771 1911\",mobile_number=None),\n",
    "    \"courses\" : [],\n",
    "    \"is_customer\" : False,\n",
    "    \"amount_paid\" : None,\n",
    "    \"customer_from\" : None,\n",
    "    \"last_update_ts\" : datetime.datetime(2023,10,20, 15,0,45)\n",
    "}]"
   ]
  },
  {
   "cell_type": "code",
   "execution_count": 5,
   "id": "20a50c2f-0fc0-4724-bb00-59a20ce804be",
   "metadata": {
    "tags": []
   },
   "outputs": [],
   "source": [
    "import pandas as pd"
   ]
  },
  {
   "cell_type": "code",
   "execution_count": 6,
   "id": "cb8d6add-a7d3-4fb7-ba15-658673ac6581",
   "metadata": {
    "tags": []
   },
   "outputs": [],
   "source": [
    "df = spark.createDataFrame(pd.DataFrame(data))"
   ]
  },
  {
   "cell_type": "code",
   "execution_count": 8,
   "id": "ee5a3c9b-8e64-4104-a166-768e0b47cc9d",
   "metadata": {
    "tags": []
   },
   "outputs": [
    {
     "ename": "SyntaxError",
     "evalue": "invalid syntax (2021240318.py, line 2)",
     "output_type": "error",
     "traceback": [
      "\u001b[1;36m  Cell \u001b[1;32mIn[8], line 2\u001b[1;36m\u001b[0m\n\u001b[1;33m    .Concatenate firstName and lastName to generate fullName\u001b[0m\n\u001b[1;37m    ^\u001b[0m\n\u001b[1;31mSyntaxError\u001b[0m\u001b[1;31m:\u001b[0m invalid syntax\n"
     ]
    }
   ],
   "source": [
    "%md\n",
    ".Concatenate firstName and lastName to generate fullName"
   ]
  },
  {
   "cell_type": "code",
   "execution_count": 9,
   "id": "2ba757f8-4bb7-477b-9126-08b3b2898070",
   "metadata": {
    "tags": []
   },
   "outputs": [],
   "source": [
    "from pyspark.sql.functions import col,lit,concat"
   ]
  },
  {
   "cell_type": "code",
   "execution_count": 12,
   "id": "8321e264-c18d-4c9c-9188-4c412fffdb3c",
   "metadata": {
    "tags": []
   },
   "outputs": [],
   "source": [
    "fullNameCol = concat(col('firstName'),lit(', '),col('lastName'))"
   ]
  },
  {
   "cell_type": "code",
   "execution_count": 13,
   "id": "055b8e4e-0759-4598-86b5-0f101d748767",
   "metadata": {
    "tags": []
   },
   "outputs": [
    {
     "data": {
      "text/plain": [
       "Column<'concat(firstName, , , lastName)'>"
      ]
     },
     "execution_count": 13,
     "metadata": {},
     "output_type": "execute_result"
    }
   ],
   "source": [
    "fullNameCol"
   ]
  },
  {
   "cell_type": "code",
   "execution_count": 14,
   "id": "a6963783-e021-47f8-8465-3de44c010a3e",
   "metadata": {
    "tags": []
   },
   "outputs": [],
   "source": [
    "fullNameAlias = fullNameCol.alias('fullName')"
   ]
  },
  {
   "cell_type": "code",
   "execution_count": 15,
   "id": "a1da7062-1814-4336-a239-a7ab26df45f7",
   "metadata": {
    "tags": []
   },
   "outputs": [
    {
     "name": "stdout",
     "output_type": "stream",
     "text": [
      "+---+----------------+\n",
      "| id|        fullName|\n",
      "+---+----------------+\n",
      "|  1| Terry, Medhurst|\n",
      "|  2|Sheldon, Quigley|\n",
      "|  3|  Terrill, Hills|\n",
      "|  4|Miles, Cummerata|\n",
      "|  5|  Mavis, Schultz|\n",
      "+---+----------------+\n",
      "\n"
     ]
    }
   ],
   "source": [
    "df.select('id',fullNameAlias).show()"
   ]
  },
  {
   "cell_type": "code",
   "execution_count": 16,
   "id": "d09add29-10a8-4fde-a654-dcd90467a66c",
   "metadata": {
    "tags": []
   },
   "outputs": [
    {
     "name": "stdout",
     "output_type": "stream",
     "text": [
      "+---+-------------+\n",
      "| id|customer_from|\n",
      "+---+-------------+\n",
      "|  1|   2022-03-10|\n",
      "|  2|   2022-05-16|\n",
      "|  3|   2022-04-11|\n",
      "|  4|         null|\n",
      "|  5|         null|\n",
      "+---+-------------+\n",
      "\n"
     ]
    }
   ],
   "source": [
    "df.select('id','customer_from').show()"
   ]
  },
  {
   "cell_type": "code",
   "execution_count": 17,
   "id": "cda52084-d037-4664-8feb-0978d93e103b",
   "metadata": {
    "tags": []
   },
   "outputs": [],
   "source": [
    "from pyspark.sql.functions import date_format"
   ]
  },
  {
   "cell_type": "code",
   "execution_count": 24,
   "id": "06c57aa4-4707-410b-835e-c582fed558ee",
   "metadata": {
    "tags": []
   },
   "outputs": [
    {
     "data": {
      "text/plain": [
       "Column<'date_format(customer_from, yyyyMMdd)'>"
      ]
     },
     "execution_count": 24,
     "metadata": {},
     "output_type": "execute_result"
    }
   ],
   "source": [
    "date_format('customer_from','yyyyMMdd')"
   ]
  },
  {
   "cell_type": "code",
   "execution_count": 25,
   "id": "5d42c06f-76f2-4a82-9896-b177919e1325",
   "metadata": {
    "tags": []
   },
   "outputs": [
    {
     "data": {
      "text/plain": [
       "Column<'CAST(date_format(customer_from, yyyyMMdd) AS INT)'>"
      ]
     },
     "execution_count": 25,
     "metadata": {},
     "output_type": "execute_result"
    }
   ],
   "source": [
    "date_format('customer_from','yyyyMMdd').cast('int')"
   ]
  },
  {
   "cell_type": "code",
   "execution_count": 26,
   "id": "04411ff4-c90e-4baa-b3c5-02c804a7f87a",
   "metadata": {
    "tags": []
   },
   "outputs": [],
   "source": [
    "coustomer_from_alias = date_format('customer_from','yyyyMMdd').cast('int').alias('customer_from')"
   ]
  },
  {
   "cell_type": "code",
   "execution_count": 29,
   "id": "77688841-e13b-4532-a05f-8e6b3c4531de",
   "metadata": {
    "tags": []
   },
   "outputs": [
    {
     "name": "stdout",
     "output_type": "stream",
     "text": [
      "+---+----------------+-------------+\n",
      "| id|        fullName|customer_from|\n",
      "+---+----------------+-------------+\n",
      "|  1| Terry, Medhurst|     20220310|\n",
      "|  2|Sheldon, Quigley|     20220516|\n",
      "|  3|  Terrill, Hills|     20220411|\n",
      "|  4|Miles, Cummerata|         null|\n",
      "|  5|  Mavis, Schultz|         null|\n",
      "+---+----------------+-------------+\n",
      "\n"
     ]
    }
   ],
   "source": [
    "df.select('id',fullNameAlias,coustomer_from_alias).show()"
   ]
  },
  {
   "cell_type": "code",
   "execution_count": 30,
   "id": "51cd70aa-a5fa-4072-bd6c-ece92e2c87f3",
   "metadata": {
    "tags": []
   },
   "outputs": [
    {
     "data": {
      "text/plain": [
       "[('id', 'bigint'), ('fullName', 'string'), ('customer_from', 'int')]"
      ]
     },
     "execution_count": 30,
     "metadata": {},
     "output_type": "execute_result"
    }
   ],
   "source": [
    "df.select('id',fullNameAlias,coustomer_from_alias).dtypes"
   ]
  },
  {
   "cell_type": "code",
   "execution_count": 35,
   "id": "b0175c6e-98bc-40d9-bb9c-622fcbca3413",
   "metadata": {
    "tags": []
   },
   "outputs": [],
   "source": [
    "df.createOrReplaceTempView('udf')"
   ]
  },
  {
   "cell_type": "code",
   "execution_count": 36,
   "id": "3dec2890-17e5-4fd9-994a-8839c476057e",
   "metadata": {
    "tags": []
   },
   "outputs": [
    {
     "name": "stdout",
     "output_type": "stream",
     "text": [
      "+---+-----------+\n",
      "| id|amount_paid|\n",
      "+---+-----------+\n",
      "|  1|    10225.0|\n",
      "|  2|    11025.0|\n",
      "|  3|    24025.0|\n",
      "|  4|        NaN|\n",
      "|  5|        NaN|\n",
      "+---+-----------+\n",
      "\n"
     ]
    }
   ],
   "source": [
    "spark.sql(\n",
    "\"\"\"\n",
    "SELECT id, (amount_paid+25) AS amount_paid FROM udf\n",
    "\"\"\").show()"
   ]
  },
  {
   "cell_type": "code",
   "execution_count": 37,
   "id": "9e9b39f1-5b32-401a-8106-c46ff88282f3",
   "metadata": {
    "tags": []
   },
   "outputs": [
    {
     "name": "stdout",
     "output_type": "stream",
     "text": [
      "+---+-----------+\n",
      "| id|amount_paid|\n",
      "+---+-----------+\n",
      "|  1|    10225.0|\n",
      "|  2|    11025.0|\n",
      "|  3|    24025.0|\n",
      "|  4|        NaN|\n",
      "|  5|        NaN|\n",
      "+---+-----------+\n",
      "\n"
     ]
    }
   ],
   "source": [
    "df.selectExpr('id','(amount_paid+25) AS amount_paid').show()"
   ]
  },
  {
   "cell_type": "code",
   "execution_count": 38,
   "id": "e82c8e0b-2c33-473b-84bb-c9f3bb894ebb",
   "metadata": {
    "tags": []
   },
   "outputs": [
    {
     "ename": "AnalysisException",
     "evalue": "[UNRESOLVED_COLUMN.WITH_SUGGESTION] A column or function parameter with name `amount_paid25` cannot be resolved. Did you mean one of the following? [`amount_paid`, `email`, `courses`, `firstName`, `id`].;\n'Project [id#0L, 'amount_paid25]\n+- LogicalRDD [id#0L, firstName#1, lastName#2, email#3, phone#4, courses#5, is_customer#6, amount_paid#7, customer_from#8, last_update_ts#9], false\n",
     "output_type": "error",
     "traceback": [
      "\u001b[1;31m---------------------------------------------------------------------------\u001b[0m",
      "\u001b[1;31mAnalysisException\u001b[0m                         Traceback (most recent call last)",
      "Cell \u001b[1;32mIn[38], line 1\u001b[0m\n\u001b[1;32m----> 1\u001b[0m df\u001b[38;5;241m.\u001b[39mselect(\u001b[38;5;124m'\u001b[39m\u001b[38;5;124mid\u001b[39m\u001b[38;5;124m'\u001b[39m,\u001b[38;5;124m'\u001b[39m\u001b[38;5;124mamount_paid\u001b[39m\u001b[38;5;124m'\u001b[39m\u001b[38;5;241m+\u001b[39m\u001b[38;5;124m'\u001b[39m\u001b[38;5;124m25\u001b[39m\u001b[38;5;124m'\u001b[39m)\u001b[38;5;241m.\u001b[39mshow()\n",
      "File \u001b[1;32m~\\AppData\\Local\\anaconda3\\Lib\\site-packages\\pyspark\\sql\\dataframe.py:3036\u001b[0m, in \u001b[0;36mDataFrame.select\u001b[1;34m(self, *cols)\u001b[0m\n\u001b[0;32m   2991\u001b[0m \u001b[38;5;28;01mdef\u001b[39;00m \u001b[38;5;21mselect\u001b[39m(\u001b[38;5;28mself\u001b[39m, \u001b[38;5;241m*\u001b[39mcols: \u001b[38;5;124m\"\u001b[39m\u001b[38;5;124mColumnOrName\u001b[39m\u001b[38;5;124m\"\u001b[39m) \u001b[38;5;241m-\u001b[39m\u001b[38;5;241m>\u001b[39m \u001b[38;5;124m\"\u001b[39m\u001b[38;5;124mDataFrame\u001b[39m\u001b[38;5;124m\"\u001b[39m:  \u001b[38;5;66;03m# type: ignore[misc]\u001b[39;00m\n\u001b[0;32m   2992\u001b[0m \u001b[38;5;250m    \u001b[39m\u001b[38;5;124;03m\"\"\"Projects a set of expressions and returns a new :class:`DataFrame`.\u001b[39;00m\n\u001b[0;32m   2993\u001b[0m \n\u001b[0;32m   2994\u001b[0m \u001b[38;5;124;03m    .. versionadded:: 1.3.0\u001b[39;00m\n\u001b[1;32m   (...)\u001b[0m\n\u001b[0;32m   3034\u001b[0m \u001b[38;5;124;03m    +-----+---+\u001b[39;00m\n\u001b[0;32m   3035\u001b[0m \u001b[38;5;124;03m    \"\"\"\u001b[39;00m\n\u001b[1;32m-> 3036\u001b[0m     jdf \u001b[38;5;241m=\u001b[39m \u001b[38;5;28mself\u001b[39m\u001b[38;5;241m.\u001b[39m_jdf\u001b[38;5;241m.\u001b[39mselect(\u001b[38;5;28mself\u001b[39m\u001b[38;5;241m.\u001b[39m_jcols(\u001b[38;5;241m*\u001b[39mcols))\n\u001b[0;32m   3037\u001b[0m     \u001b[38;5;28;01mreturn\u001b[39;00m DataFrame(jdf, \u001b[38;5;28mself\u001b[39m\u001b[38;5;241m.\u001b[39msparkSession)\n",
      "File \u001b[1;32m~\\AppData\\Local\\anaconda3\\Lib\\site-packages\\py4j\\java_gateway.py:1322\u001b[0m, in \u001b[0;36mJavaMember.__call__\u001b[1;34m(self, *args)\u001b[0m\n\u001b[0;32m   1316\u001b[0m command \u001b[38;5;241m=\u001b[39m proto\u001b[38;5;241m.\u001b[39mCALL_COMMAND_NAME \u001b[38;5;241m+\u001b[39m\\\n\u001b[0;32m   1317\u001b[0m     \u001b[38;5;28mself\u001b[39m\u001b[38;5;241m.\u001b[39mcommand_header \u001b[38;5;241m+\u001b[39m\\\n\u001b[0;32m   1318\u001b[0m     args_command \u001b[38;5;241m+\u001b[39m\\\n\u001b[0;32m   1319\u001b[0m     proto\u001b[38;5;241m.\u001b[39mEND_COMMAND_PART\n\u001b[0;32m   1321\u001b[0m answer \u001b[38;5;241m=\u001b[39m \u001b[38;5;28mself\u001b[39m\u001b[38;5;241m.\u001b[39mgateway_client\u001b[38;5;241m.\u001b[39msend_command(command)\n\u001b[1;32m-> 1322\u001b[0m return_value \u001b[38;5;241m=\u001b[39m get_return_value(\n\u001b[0;32m   1323\u001b[0m     answer, \u001b[38;5;28mself\u001b[39m\u001b[38;5;241m.\u001b[39mgateway_client, \u001b[38;5;28mself\u001b[39m\u001b[38;5;241m.\u001b[39mtarget_id, \u001b[38;5;28mself\u001b[39m\u001b[38;5;241m.\u001b[39mname)\n\u001b[0;32m   1325\u001b[0m \u001b[38;5;28;01mfor\u001b[39;00m temp_arg \u001b[38;5;129;01min\u001b[39;00m temp_args:\n\u001b[0;32m   1326\u001b[0m     \u001b[38;5;28;01mif\u001b[39;00m \u001b[38;5;28mhasattr\u001b[39m(temp_arg, \u001b[38;5;124m\"\u001b[39m\u001b[38;5;124m_detach\u001b[39m\u001b[38;5;124m\"\u001b[39m):\n",
      "File \u001b[1;32m~\\AppData\\Local\\anaconda3\\Lib\\site-packages\\pyspark\\errors\\exceptions\\captured.py:175\u001b[0m, in \u001b[0;36mcapture_sql_exception.<locals>.deco\u001b[1;34m(*a, **kw)\u001b[0m\n\u001b[0;32m    171\u001b[0m converted \u001b[38;5;241m=\u001b[39m convert_exception(e\u001b[38;5;241m.\u001b[39mjava_exception)\n\u001b[0;32m    172\u001b[0m \u001b[38;5;28;01mif\u001b[39;00m \u001b[38;5;129;01mnot\u001b[39;00m \u001b[38;5;28misinstance\u001b[39m(converted, UnknownException):\n\u001b[0;32m    173\u001b[0m     \u001b[38;5;66;03m# Hide where the exception came from that shows a non-Pythonic\u001b[39;00m\n\u001b[0;32m    174\u001b[0m     \u001b[38;5;66;03m# JVM exception message.\u001b[39;00m\n\u001b[1;32m--> 175\u001b[0m     \u001b[38;5;28;01mraise\u001b[39;00m converted \u001b[38;5;28;01mfrom\u001b[39;00m \u001b[38;5;28;01mNone\u001b[39;00m\n\u001b[0;32m    176\u001b[0m \u001b[38;5;28;01melse\u001b[39;00m:\n\u001b[0;32m    177\u001b[0m     \u001b[38;5;28;01mraise\u001b[39;00m\n",
      "\u001b[1;31mAnalysisException\u001b[0m: [UNRESOLVED_COLUMN.WITH_SUGGESTION] A column or function parameter with name `amount_paid25` cannot be resolved. Did you mean one of the following? [`amount_paid`, `email`, `courses`, `firstName`, `id`].;\n'Project [id#0L, 'amount_paid25]\n+- LogicalRDD [id#0L, firstName#1, lastName#2, email#3, phone#4, courses#5, is_customer#6, amount_paid#7, customer_from#8, last_update_ts#9], false\n"
     ]
    }
   ],
   "source": [
    "df.select('id','amount_paid'+'25').show()"
   ]
  },
  {
   "cell_type": "code",
   "execution_count": 39,
   "id": "fec66cda-e1e4-48ab-9161-40d9e605e166",
   "metadata": {
    "tags": []
   },
   "outputs": [
    {
     "data": {
      "text/plain": [
       "Column<'25'>"
      ]
     },
     "execution_count": 39,
     "metadata": {},
     "output_type": "execute_result"
    }
   ],
   "source": [
    "lit(25)"
   ]
  },
  {
   "cell_type": "code",
   "execution_count": 40,
   "id": "72b6da59-43b6-4213-96b0-e2b5627a49f5",
   "metadata": {
    "tags": []
   },
   "outputs": [
    {
     "data": {
      "text/plain": [
       "Column<'(25 + amount_paid)'>"
      ]
     },
     "execution_count": 40,
     "metadata": {},
     "output_type": "execute_result"
    }
   ],
   "source": [
    "'amount_paid'+lit(25)"
   ]
  },
  {
   "cell_type": "code",
   "execution_count": 44,
   "id": "a2534c7b-6b34-48c4-a706-cb83211e3182",
   "metadata": {
    "tags": []
   },
   "outputs": [
    {
     "name": "stdout",
     "output_type": "stream",
     "text": [
      "+---+--------------------+-------------+\n",
      "| id|(25.0 + amount_paid)|(50.0 + 25.0)|\n",
      "+---+--------------------+-------------+\n",
      "|  1|                null|         75.0|\n",
      "|  2|                null|         75.0|\n",
      "|  3|                null|         75.0|\n",
      "|  4|                null|         75.0|\n",
      "|  5|                null|         75.0|\n",
      "+---+--------------------+-------------+\n",
      "\n"
     ]
    }
   ],
   "source": [
    "df.select('id','amount_paid'+lit(25.0),lit(50.0)+lit(25.0)).show()"
   ]
  },
  {
   "cell_type": "code",
   "execution_count": 45,
   "id": "08c5f59a-c7fc-42d3-b586-566ed1dac606",
   "metadata": {
    "tags": []
   },
   "outputs": [
    {
     "name": "stdout",
     "output_type": "stream",
     "text": [
      "+---+--------------------+\n",
      "| id|(amount_paid + 25.0)|\n",
      "+---+--------------------+\n",
      "|  1|             10225.0|\n",
      "|  2|             11025.0|\n",
      "|  3|             24025.0|\n",
      "|  4|                 NaN|\n",
      "|  5|                 NaN|\n",
      "+---+--------------------+\n",
      "\n"
     ]
    }
   ],
   "source": [
    "df.select('id',col('amount_paid')+lit(25.0)).show()"
   ]
  },
  {
   "cell_type": "code",
   "execution_count": null,
   "id": "33b0af4c-9054-48bc-aa91-b1e1b3f14dee",
   "metadata": {},
   "outputs": [],
   "source": []
  }
 ],
 "metadata": {
  "kernelspec": {
   "display_name": "Python 3 (ipykernel)",
   "language": "python",
   "name": "python3"
  },
  "language_info": {
   "codemirror_mode": {
    "name": "ipython",
    "version": 3
   },
   "file_extension": ".py",
   "mimetype": "text/x-python",
   "name": "python",
   "nbconvert_exporter": "python",
   "pygments_lexer": "ipython3",
   "version": "3.11.4"
  }
 },
 "nbformat": 4,
 "nbformat_minor": 5
}
