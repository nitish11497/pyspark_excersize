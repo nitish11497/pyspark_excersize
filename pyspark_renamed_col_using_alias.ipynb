{
 "cells": [
  {
   "cell_type": "code",
   "execution_count": 1,
   "id": "610dd101-5089-4084-9348-64b209d82e15",
   "metadata": {
    "tags": []
   },
   "outputs": [],
   "source": [
    "import findspark\n",
    "findspark.init()\n",
    "from pyspark.sql import SparkSession\n",
    "spark = SparkSession.builder.master('local[1]').appName('pyspark_fresh').getOrCreate()"
   ]
  },
  {
   "cell_type": "code",
   "execution_count": 2,
   "id": "2254f291-7ce7-429d-9b0b-ef6b7d7bf72e",
   "metadata": {
    "tags": []
   },
   "outputs": [],
   "source": [
    "from pyspark.sql import Row"
   ]
  },
  {
   "cell_type": "code",
   "execution_count": 3,
   "id": "28e45917-d7e9-4264-9f79-ef9bc5d492cc",
   "metadata": {
    "tags": []
   },
   "outputs": [],
   "source": [
    "import datetime\n",
    "data= [{\n",
    "    \"id\":1,\n",
    "    \"firstName\":\"Terry\",\n",
    "    \"lastName\":\"Medhurst\",\n",
    "    \"email\":\"atuny0@sohu.com\",\n",
    "    \"phone\":Row(phone_number = \"+63 791 675 8914\",mobile_number = \"+63 791 675 8945\"),\n",
    "    \"courses\" : [1,2],\n",
    "    \"is_customer\" : True,\n",
    "    \"amount_paid\" : 10200,\n",
    "    \"customer_from\" : datetime.date(2022,3,10),\n",
    "    \"last_update_ts\" : datetime.datetime(2023,10,20, 15,0,45)\n",
    "},\n",
    "{\n",
    "    \"id\":2,\n",
    "    \"firstName\":\"Sheldon\",\n",
    "    \"lastName\":\"Quigley\",\n",
    "    \"email\":\"hbingley1@plala.or.jp\",\n",
    "    \"phone\":Row(phone_number=\"+7 813 117\",mobile_number=\"+7 813 119\"),\n",
    "    \"courses\" : [3],\n",
    "    \"is_customer\" : True,\n",
    "    \"amount_paid\" : 11000,\n",
    "    \"customer_from\" : datetime.date(2022,5,16),\n",
    "    \"last_update_ts\" : datetime.datetime(2023,10,20, 15,0,45)\n",
    "},\n",
    "{\n",
    "    \"id\":3,\n",
    "    \"firstName\":\"Terrill\",\n",
    "    \"lastName\":\"Hills\",\n",
    "    \"email\":\"rshawe2@51.la\",\n",
    "    \"phone\":Row(phone_number=\"+63 739 292 7942\",mobile_number=\"+63 739 292 7943\"),\n",
    "    \"courses\" : [2,4],\n",
    "    \"is_customer\" : True,\n",
    "    \"amount_paid\" : 24000,\n",
    "    \"customer_from\" : datetime.date(2022,4,11),\n",
    "    \"last_update_ts\" : datetime.datetime(2023,10,20, 15,0,45)\n",
    "},\n",
    "{\n",
    "    \"id\":4,\n",
    "    \"firstName\":\"Miles\",\n",
    "    \"lastName\":\"Cummerata\",\n",
    "    \"email\":\"yraigatt3@nature.com\",\n",
    "    \"phone\":Row(phone_number=None,mobile_number=None),\n",
    "    \"courses\" : [],\n",
    "    \"is_customer\" : False,\n",
    "    \"amount_paid\" : None,\n",
    "    \"customer_from\" : None,\n",
    "    \"last_update_ts\" : datetime.datetime(2023,10,20, 15,0,45)\n",
    "},\n",
    "{\n",
    "    \"id\":5,\n",
    "    \"firstName\":\"Mavis\",\n",
    "    \"lastName\":\"Schultz\",\n",
    "    \"email\":\"kmeus4@upenn.edu\",\n",
    "    \"phone\":Row(phone_number=\"+372 285 771 1911\",mobile_number=None),\n",
    "    \"courses\" : [],\n",
    "    \"is_customer\" : False,\n",
    "    \"amount_paid\" : None,\n",
    "    \"customer_from\" : None,\n",
    "    \"last_update_ts\" : datetime.datetime(2023,10,20, 15,0,45)\n",
    "}]"
   ]
  },
  {
   "cell_type": "code",
   "execution_count": 4,
   "id": "4f99a59e-68c1-4a8d-a9d3-4ad0f214d92b",
   "metadata": {
    "tags": []
   },
   "outputs": [],
   "source": [
    "import pandas as pd"
   ]
  },
  {
   "cell_type": "code",
   "execution_count": 5,
   "id": "90c9ae3d-9939-4772-9fae-217a7d6468dd",
   "metadata": {
    "tags": []
   },
   "outputs": [],
   "source": [
    "df = spark.createDataFrame(pd.DataFrame(data))"
   ]
  },
  {
   "cell_type": "code",
   "execution_count": 6,
   "id": "6afb831a-375e-417d-a566-d169184e9088",
   "metadata": {
    "tags": []
   },
   "outputs": [
    {
     "name": "stdout",
     "output_type": "stream",
     "text": [
      "+---+---------+---------+--------------------+--------------------+-------+-----------+-----------+-------------+-------------------+\n",
      "| id|firstName| lastName|               email|               phone|courses|is_customer|amount_paid|customer_from|     last_update_ts|\n",
      "+---+---------+---------+--------------------+--------------------+-------+-----------+-----------+-------------+-------------------+\n",
      "|  1|    Terry| Medhurst|     atuny0@sohu.com|{+63 791 675 8914...| [1, 2]|       true|    10200.0|   2022-03-10|2023-10-20 15:00:45|\n",
      "|  2|  Sheldon|  Quigley|hbingley1@plala.o...|{+7 813 117, +7 8...|    [3]|       true|    11000.0|   2022-05-16|2023-10-20 15:00:45|\n",
      "|  3|  Terrill|    Hills|       rshawe2@51.la|{+63 739 292 7942...| [2, 4]|       true|    24000.0|   2022-04-11|2023-10-20 15:00:45|\n",
      "|  4|    Miles|Cummerata|yraigatt3@nature.com|        {null, null}|     []|      false|        NaN|         null|2023-10-20 15:00:45|\n",
      "|  5|    Mavis|  Schultz|    kmeus4@upenn.edu|{+372 285 771 191...|     []|      false|        NaN|         null|2023-10-20 15:00:45|\n",
      "+---+---------+---------+--------------------+--------------------+-------+-----------+-----------+-------------+-------------------+\n",
      "\n"
     ]
    }
   ],
   "source": [
    "df.show()"
   ]
  },
  {
   "cell_type": "markdown",
   "id": "3805ced8-8834-4dbc-a7be-b656f6cd374c",
   "metadata": {},
   "source": [
    "- Rename id to user_id\n",
    "- Rename firstName to user_first_name\n",
    "- Rename lastName to user_last_name\n",
    "- also add new column by name user_full_name which is derived by concatenating firstName and lastName with , in between"
   ]
  },
  {
   "cell_type": "code",
   "execution_count": 8,
   "id": "5055fccf-557d-4d1a-a36d-489a011385e4",
   "metadata": {
    "tags": []
   },
   "outputs": [],
   "source": [
    "from pyspark.sql.functions import col,lit,concat"
   ]
  },
  {
   "cell_type": "code",
   "execution_count": 9,
   "id": "b616e9e4-ff75-4089-9515-e4bfcef60186",
   "metadata": {
    "tags": []
   },
   "outputs": [],
   "source": [
    "user_id = col('id')"
   ]
  },
  {
   "cell_type": "code",
   "execution_count": 10,
   "id": "16996af7-4d99-4430-a537-b0125b423ca7",
   "metadata": {
    "tags": []
   },
   "outputs": [
    {
     "name": "stdout",
     "output_type": "stream",
     "text": [
      "Help on method alias in module pyspark.sql.column:\n",
      "\n",
      "alias(*alias: str, **kwargs: Any) -> 'Column' method of pyspark.sql.column.Column instance\n",
      "    Returns this column aliased with a new name or names (in the case of expressions that\n",
      "    return more than one column, such as explode).\n",
      "    \n",
      "    .. versionadded:: 1.3.0\n",
      "    \n",
      "    .. versionchanged:: 3.4.0\n",
      "        Supports Spark Connect.\n",
      "    \n",
      "    Parameters\n",
      "    ----------\n",
      "    alias : str\n",
      "        desired column names (collects all positional arguments passed)\n",
      "    \n",
      "    Other Parameters\n",
      "    ----------------\n",
      "    metadata: dict\n",
      "        a dict of information to be stored in ``metadata`` attribute of the\n",
      "        corresponding :class:`StructField <pyspark.sql.types.StructField>` (optional, keyword\n",
      "        only argument)\n",
      "    \n",
      "        .. versionchanged:: 2.2.0\n",
      "           Added optional ``metadata`` argument.\n",
      "    \n",
      "    Returns\n",
      "    -------\n",
      "    :class:`Column`\n",
      "        Column representing whether each element of Column is aliased with new name or names.\n",
      "    \n",
      "    Examples\n",
      "    --------\n",
      "    >>> df = spark.createDataFrame(\n",
      "    ...      [(2, \"Alice\"), (5, \"Bob\")], [\"age\", \"name\"])\n",
      "    >>> df.select(df.age.alias(\"age2\")).collect()\n",
      "    [Row(age2=2), Row(age2=5)]\n",
      "    >>> df.select(df.age.alias(\"age3\", metadata={'max': 99})).schema['age3'].metadata['max']\n",
      "    99\n",
      "\n"
     ]
    }
   ],
   "source": [
    "help(user_id.alias)"
   ]
  },
  {
   "cell_type": "code",
   "execution_count": 11,
   "id": "1a30fc6c-a6f8-47e6-98e6-c0f70a2e650c",
   "metadata": {
    "tags": []
   },
   "outputs": [
    {
     "name": "stdout",
     "output_type": "stream",
     "text": [
      "+-------+---------------+--------------+----------------+\n",
      "|user_id|user_first_name|user_last_name|  user_full_name|\n",
      "+-------+---------------+--------------+----------------+\n",
      "|      1|          Terry|      Medhurst| Terry, Medhurst|\n",
      "|      2|        Sheldon|       Quigley|Sheldon, Quigley|\n",
      "|      3|        Terrill|         Hills|  Terrill, Hills|\n",
      "|      4|          Miles|     Cummerata|Miles, Cummerata|\n",
      "|      5|          Mavis|       Schultz|  Mavis, Schultz|\n",
      "+-------+---------------+--------------+----------------+\n",
      "\n"
     ]
    }
   ],
   "source": [
    "# using select\n",
    "\n",
    "df.\\\n",
    "select(\n",
    "    col('id').alias('user_id'),\\\n",
    "    col('firstName').alias('user_first_name'),\\\n",
    "    col('lastName').alias('user_last_name'),\\\n",
    "    concat(col('firstName'),lit(', '),col('lastName')).alias('user_full_name')).show()"
   ]
  },
  {
   "cell_type": "code",
   "execution_count": 12,
   "id": "5145134b-04e6-4d96-a0ab-666d93db29e9",
   "metadata": {
    "tags": []
   },
   "outputs": [
    {
     "name": "stdout",
     "output_type": "stream",
     "text": [
      "+-------+---------------+--------------+----------------+\n",
      "|user_id|user_first_name|user_last_name|  user_full_name|\n",
      "+-------+---------------+--------------+----------------+\n",
      "|      1|          Terry|      Medhurst| Terry, Medhurst|\n",
      "|      2|        Sheldon|       Quigley|Sheldon, Quigley|\n",
      "|      3|        Terrill|         Hills|  Terrill, Hills|\n",
      "|      4|          Miles|     Cummerata|Miles, Cummerata|\n",
      "|      5|          Mavis|       Schultz|  Mavis, Schultz|\n",
      "+-------+---------------+--------------+----------------+\n",
      "\n"
     ]
    }
   ],
   "source": [
    "df.\\\n",
    "select(\n",
    "    df['id'].alias('user_id'),\\\n",
    "    df['firstName'].alias('user_first_name'),\\\n",
    "    df['lastName'].alias('user_last_name'),\\\n",
    "    concat(df['firstName'],lit(', '),df['lastName']).alias('user_full_name')).show()"
   ]
  },
  {
   "cell_type": "code",
   "execution_count": 13,
   "id": "03bdfc04-1fc0-4b05-8936-ac5039de3ab0",
   "metadata": {
    "tags": []
   },
   "outputs": [
    {
     "ename": "AnalysisException",
     "evalue": "[UNRESOLVED_COLUMN.WITH_SUGGESTION] A column or function parameter with name `firstName` cannot be resolved. Did you mean one of the following? [`user_first_name`, `user_id`, `user_last_name`].;\n'Project [user_id#111L, user_first_name#112, user_last_name#113, concat('firstName, , , 'lastName) AS user_full_name#117]\n+- Project [id#0L AS user_id#111L, firstName#1 AS user_first_name#112, lastName#2 AS user_last_name#113]\n   +- LogicalRDD [id#0L, firstName#1, lastName#2, email#3, phone#4, courses#5, is_customer#6, amount_paid#7, customer_from#8, last_update_ts#9], false\n",
     "output_type": "error",
     "traceback": [
      "\u001b[1;31m---------------------------------------------------------------------------\u001b[0m",
      "\u001b[1;31mAnalysisException\u001b[0m                         Traceback (most recent call last)",
      "Cell \u001b[1;32mIn[13], line 7\u001b[0m\n\u001b[0;32m      1\u001b[0m \u001b[38;5;66;03m# using withColumn and alias\u001b[39;00m\n\u001b[0;32m      2\u001b[0m df\u001b[38;5;241m.\u001b[39m\\\n\u001b[0;32m      3\u001b[0m select(\n\u001b[0;32m      4\u001b[0m     col(\u001b[38;5;124m'\u001b[39m\u001b[38;5;124mid\u001b[39m\u001b[38;5;124m'\u001b[39m)\u001b[38;5;241m.\u001b[39malias(\u001b[38;5;124m'\u001b[39m\u001b[38;5;124muser_id\u001b[39m\u001b[38;5;124m'\u001b[39m),\\\n\u001b[0;32m      5\u001b[0m     col(\u001b[38;5;124m'\u001b[39m\u001b[38;5;124mfirstName\u001b[39m\u001b[38;5;124m'\u001b[39m)\u001b[38;5;241m.\u001b[39malias(\u001b[38;5;124m'\u001b[39m\u001b[38;5;124muser_first_name\u001b[39m\u001b[38;5;124m'\u001b[39m),\\\n\u001b[0;32m      6\u001b[0m     col(\u001b[38;5;124m'\u001b[39m\u001b[38;5;124mlastName\u001b[39m\u001b[38;5;124m'\u001b[39m)\u001b[38;5;241m.\u001b[39malias(\u001b[38;5;124m'\u001b[39m\u001b[38;5;124muser_last_name\u001b[39m\u001b[38;5;124m'\u001b[39m)\n\u001b[1;32m----> 7\u001b[0m )\u001b[38;5;241m.\u001b[39mwithColumn(\u001b[38;5;124m'\u001b[39m\u001b[38;5;124muser_full_name\u001b[39m\u001b[38;5;124m'\u001b[39m,concat(col(\u001b[38;5;124m'\u001b[39m\u001b[38;5;124mfirstName\u001b[39m\u001b[38;5;124m'\u001b[39m),lit(\u001b[38;5;124m'\u001b[39m\u001b[38;5;124m, \u001b[39m\u001b[38;5;124m'\u001b[39m),col(\u001b[38;5;124m'\u001b[39m\u001b[38;5;124mlastName\u001b[39m\u001b[38;5;124m'\u001b[39m)))\u001b[38;5;241m.\u001b[39mshow()\n",
      "File \u001b[1;32m~\\AppData\\Local\\anaconda3\\Lib\\site-packages\\pyspark\\sql\\dataframe.py:4789\u001b[0m, in \u001b[0;36mDataFrame.withColumn\u001b[1;34m(self, colName, col)\u001b[0m\n\u001b[0;32m   4784\u001b[0m \u001b[38;5;28;01mif\u001b[39;00m \u001b[38;5;129;01mnot\u001b[39;00m \u001b[38;5;28misinstance\u001b[39m(col, Column):\n\u001b[0;32m   4785\u001b[0m     \u001b[38;5;28;01mraise\u001b[39;00m PySparkTypeError(\n\u001b[0;32m   4786\u001b[0m         error_class\u001b[38;5;241m=\u001b[39m\u001b[38;5;124m\"\u001b[39m\u001b[38;5;124mNOT_COLUMN\u001b[39m\u001b[38;5;124m\"\u001b[39m,\n\u001b[0;32m   4787\u001b[0m         message_parameters\u001b[38;5;241m=\u001b[39m{\u001b[38;5;124m\"\u001b[39m\u001b[38;5;124marg_name\u001b[39m\u001b[38;5;124m\"\u001b[39m: \u001b[38;5;124m\"\u001b[39m\u001b[38;5;124mcol\u001b[39m\u001b[38;5;124m\"\u001b[39m, \u001b[38;5;124m\"\u001b[39m\u001b[38;5;124marg_type\u001b[39m\u001b[38;5;124m\"\u001b[39m: \u001b[38;5;28mtype\u001b[39m(col)\u001b[38;5;241m.\u001b[39m\u001b[38;5;18m__name__\u001b[39m},\n\u001b[0;32m   4788\u001b[0m     )\n\u001b[1;32m-> 4789\u001b[0m \u001b[38;5;28;01mreturn\u001b[39;00m DataFrame(\u001b[38;5;28mself\u001b[39m\u001b[38;5;241m.\u001b[39m_jdf\u001b[38;5;241m.\u001b[39mwithColumn(colName, col\u001b[38;5;241m.\u001b[39m_jc), \u001b[38;5;28mself\u001b[39m\u001b[38;5;241m.\u001b[39msparkSession)\n",
      "File \u001b[1;32m~\\AppData\\Local\\anaconda3\\Lib\\site-packages\\py4j\\java_gateway.py:1322\u001b[0m, in \u001b[0;36mJavaMember.__call__\u001b[1;34m(self, *args)\u001b[0m\n\u001b[0;32m   1316\u001b[0m command \u001b[38;5;241m=\u001b[39m proto\u001b[38;5;241m.\u001b[39mCALL_COMMAND_NAME \u001b[38;5;241m+\u001b[39m\\\n\u001b[0;32m   1317\u001b[0m     \u001b[38;5;28mself\u001b[39m\u001b[38;5;241m.\u001b[39mcommand_header \u001b[38;5;241m+\u001b[39m\\\n\u001b[0;32m   1318\u001b[0m     args_command \u001b[38;5;241m+\u001b[39m\\\n\u001b[0;32m   1319\u001b[0m     proto\u001b[38;5;241m.\u001b[39mEND_COMMAND_PART\n\u001b[0;32m   1321\u001b[0m answer \u001b[38;5;241m=\u001b[39m \u001b[38;5;28mself\u001b[39m\u001b[38;5;241m.\u001b[39mgateway_client\u001b[38;5;241m.\u001b[39msend_command(command)\n\u001b[1;32m-> 1322\u001b[0m return_value \u001b[38;5;241m=\u001b[39m get_return_value(\n\u001b[0;32m   1323\u001b[0m     answer, \u001b[38;5;28mself\u001b[39m\u001b[38;5;241m.\u001b[39mgateway_client, \u001b[38;5;28mself\u001b[39m\u001b[38;5;241m.\u001b[39mtarget_id, \u001b[38;5;28mself\u001b[39m\u001b[38;5;241m.\u001b[39mname)\n\u001b[0;32m   1325\u001b[0m \u001b[38;5;28;01mfor\u001b[39;00m temp_arg \u001b[38;5;129;01min\u001b[39;00m temp_args:\n\u001b[0;32m   1326\u001b[0m     \u001b[38;5;28;01mif\u001b[39;00m \u001b[38;5;28mhasattr\u001b[39m(temp_arg, \u001b[38;5;124m\"\u001b[39m\u001b[38;5;124m_detach\u001b[39m\u001b[38;5;124m\"\u001b[39m):\n",
      "File \u001b[1;32m~\\AppData\\Local\\anaconda3\\Lib\\site-packages\\pyspark\\errors\\exceptions\\captured.py:175\u001b[0m, in \u001b[0;36mcapture_sql_exception.<locals>.deco\u001b[1;34m(*a, **kw)\u001b[0m\n\u001b[0;32m    171\u001b[0m converted \u001b[38;5;241m=\u001b[39m convert_exception(e\u001b[38;5;241m.\u001b[39mjava_exception)\n\u001b[0;32m    172\u001b[0m \u001b[38;5;28;01mif\u001b[39;00m \u001b[38;5;129;01mnot\u001b[39;00m \u001b[38;5;28misinstance\u001b[39m(converted, UnknownException):\n\u001b[0;32m    173\u001b[0m     \u001b[38;5;66;03m# Hide where the exception came from that shows a non-Pythonic\u001b[39;00m\n\u001b[0;32m    174\u001b[0m     \u001b[38;5;66;03m# JVM exception message.\u001b[39;00m\n\u001b[1;32m--> 175\u001b[0m     \u001b[38;5;28;01mraise\u001b[39;00m converted \u001b[38;5;28;01mfrom\u001b[39;00m \u001b[38;5;28;01mNone\u001b[39;00m\n\u001b[0;32m    176\u001b[0m \u001b[38;5;28;01melse\u001b[39;00m:\n\u001b[0;32m    177\u001b[0m     \u001b[38;5;28;01mraise\u001b[39;00m\n",
      "\u001b[1;31mAnalysisException\u001b[0m: [UNRESOLVED_COLUMN.WITH_SUGGESTION] A column or function parameter with name `firstName` cannot be resolved. Did you mean one of the following? [`user_first_name`, `user_id`, `user_last_name`].;\n'Project [user_id#111L, user_first_name#112, user_last_name#113, concat('firstName, , , 'lastName) AS user_full_name#117]\n+- Project [id#0L AS user_id#111L, firstName#1 AS user_first_name#112, lastName#2 AS user_last_name#113]\n   +- LogicalRDD [id#0L, firstName#1, lastName#2, email#3, phone#4, courses#5, is_customer#6, amount_paid#7, customer_from#8, last_update_ts#9], false\n"
     ]
    }
   ],
   "source": [
    "# using withColumn and alias\n",
    "df.\\\n",
    "select(\n",
    "    col('id').alias('user_id'),\\\n",
    "    col('firstName').alias('user_first_name'),\\\n",
    "    col('lastName').alias('user_last_name')\n",
    ").withColumn('user_full_name',concat(col('firstName'),lit(', '),col('lastName'))).show()"
   ]
  },
  {
   "cell_type": "code",
   "execution_count": 14,
   "id": "8c6e39da-3145-4d78-ab70-bf23c273191b",
   "metadata": {
    "tags": []
   },
   "outputs": [
    {
     "name": "stdout",
     "output_type": "stream",
     "text": [
      "+-------+---------------+--------------+----------------+\n",
      "|user_id|user_first_name|user_last_name|  user_full_name|\n",
      "+-------+---------------+--------------+----------------+\n",
      "|      1|          Terry|      Medhurst| Terry, Medhurst|\n",
      "|      2|        Sheldon|       Quigley|Sheldon, Quigley|\n",
      "|      3|        Terrill|         Hills|  Terrill, Hills|\n",
      "|      4|          Miles|     Cummerata|Miles, Cummerata|\n",
      "|      5|          Mavis|       Schultz|  Mavis, Schultz|\n",
      "+-------+---------------+--------------+----------------+\n",
      "\n"
     ]
    }
   ],
   "source": [
    "df.\\\n",
    "select(\n",
    "    col('id').alias('user_id'),\\\n",
    "    col('firstName').alias('user_first_name'),\\\n",
    "    col('lastName').alias('user_last_name')\n",
    ").withColumn('user_full_name',concat(col('user_first_name'),lit(', '),col('user_last_name'))).show()"
   ]
  },
  {
   "cell_type": "code",
   "execution_count": 16,
   "id": "b7a28c17-1353-4ea0-bec5-1237701355da",
   "metadata": {
    "tags": []
   },
   "outputs": [
    {
     "name": "stdout",
     "output_type": "stream",
     "text": [
      "+-------+---------------+--------------+----------------+\n",
      "|user_id|user_first_name|user_last_name|  user_full_name|\n",
      "+-------+---------------+--------------+----------------+\n",
      "|      1|          Terry|      Medhurst| Terry, Medhurst|\n",
      "|      2|        Sheldon|       Quigley|Sheldon, Quigley|\n",
      "|      3|        Terrill|         Hills|  Terrill, Hills|\n",
      "|      4|          Miles|     Cummerata|Miles, Cummerata|\n",
      "|      5|          Mavis|       Schultz|  Mavis, Schultz|\n",
      "+-------+---------------+--------------+----------------+\n",
      "\n"
     ]
    }
   ],
   "source": [
    "df.\\\n",
    "withColumn('user_full_name',concat(col('firstName'),lit(', '),col('lastName'))).\\\n",
    "select(\n",
    "    col('id').alias('user_id'),\\\n",
    "    col('firstName').alias('user_first_name'),\\\n",
    "    col('lastName').alias('user_last_name'),\\\n",
    "    'user_full_name'\n",
    ").show()"
   ]
  },
  {
   "cell_type": "code",
   "execution_count": 17,
   "id": "d9c8a3bc-d0ba-4efe-92c6-dc2bf24f2c27",
   "metadata": {
    "tags": []
   },
   "outputs": [
    {
     "name": "stdout",
     "output_type": "stream",
     "text": [
      "+-------+---------------+--------------+----------------+\n",
      "|user_id|user_first_name|user_last_name|  user_full_name|\n",
      "+-------+---------------+--------------+----------------+\n",
      "|      1|          Terry|      Medhurst| Terry, Medhurst|\n",
      "|      2|        Sheldon|       Quigley|Sheldon, Quigley|\n",
      "|      3|        Terrill|         Hills|  Terrill, Hills|\n",
      "|      4|          Miles|     Cummerata|Miles, Cummerata|\n",
      "|      5|          Mavis|       Schultz|  Mavis, Schultz|\n",
      "+-------+---------------+--------------+----------------+\n",
      "\n"
     ]
    }
   ],
   "source": [
    "df.\\\n",
    "withColumn('user_full_name',concat(df['firstName'],lit(', '),df['lastName'])).\\\n",
    "select(\n",
    "    col('id').alias('user_id'),\\\n",
    "    col('firstName').alias('user_first_name'),\\\n",
    "    col('lastName').alias('user_last_name'),\\\n",
    "    'user_full_name'\n",
    ").show()"
   ]
  },
  {
   "cell_type": "code",
   "execution_count": null,
   "id": "be5d1b5b-b3b7-4951-bb28-1a48f2958266",
   "metadata": {},
   "outputs": [],
   "source": []
  }
 ],
 "metadata": {
  "kernelspec": {
   "display_name": "Python 3 (ipykernel)",
   "language": "python",
   "name": "python3"
  },
  "language_info": {
   "codemirror_mode": {
    "name": "ipython",
    "version": 3
   },
   "file_extension": ".py",
   "mimetype": "text/x-python",
   "name": "python",
   "nbconvert_exporter": "python",
   "pygments_lexer": "ipython3",
   "version": "3.11.4"
  }
 },
 "nbformat": 4,
 "nbformat_minor": 5
}
