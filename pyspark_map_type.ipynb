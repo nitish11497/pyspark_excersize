{
 "cells": [
  {
   "cell_type": "code",
   "execution_count": 1,
   "id": "49a24875-0033-407a-82e4-d0766a22930e",
   "metadata": {
    "tags": []
   },
   "outputs": [],
   "source": [
    "import findspark\n",
    "findspark.init()\n",
    "from pyspark.sql import SparkSession\n",
    "spark = SparkSession.builder.master('local[1]').appName('pyspark_fresh').getOrCreate()"
   ]
  },
  {
   "cell_type": "code",
   "execution_count": 8,
   "id": "075d6c6c-9437-46a3-9772-7fbe8f69da64",
   "metadata": {
    "tags": []
   },
   "outputs": [],
   "source": [
    "import datetime\n",
    "data= [{\n",
    "    \"id\":1,\n",
    "    \"firstName\":\"Terry\",\n",
    "    \"lastName\":\"Medhurst\",\n",
    "    \"maidenName\":\"Smitham\",\n",
    "    \"age\":50,\n",
    "    \"gender\":\"male\",\n",
    "    \"email\":\"atuny0@sohu.com\",\n",
    "    \"phone\":{\"phone_number\":\"+63 791 675 8914\",\"mobile_number\":\"\"},\n",
    "    \"is_customer\" : True,\n",
    "    \"amount_paid\" : 10200,\n",
    "    \"customer_from\" : datetime.date(2022,3,10),\n",
    "    \"last_update_ts\" : datetime.datetime(2023,10,20, 15,0,45)\n",
    "},\n",
    "{\n",
    "    \"id\":2,\n",
    "    \"firstName\":\"Sheldon\",\n",
    "    \"lastName\":\"Quigley\",\n",
    "    \"maidenName\":\"Cole\",\n",
    "    \"age\":28,\"gender\":\"male\",\n",
    "    \"email\":\"hbingley1@plala.or.jp\",\n",
    "    \"phone\":{\"phone_number\":\"+7 813 117\",\"mobile_number\":None},\n",
    "    \"is_customer\" : True,\n",
    "    \"amount_paid\" : 11000,\n",
    "    \"customer_from\" : datetime.date(2022,5,16),\n",
    "    \"last_update_ts\" : datetime.datetime(2023,10,20, 15,0,45)\n",
    "},\n",
    "{\n",
    "    \"id\":3,\n",
    "    \"firstName\":\"Terrill\",\n",
    "    \"lastName\":\"Hills\",\n",
    "    \"maidenName\":\"Hoeger\",\n",
    "    \"age\":38,\n",
    "    \"gender\":\"male\",\n",
    "    \"email\":\"rshawe2@51.la\",\n",
    "    \"phone\":{\"phone_number\":\"+63 739 292 7942\",\"mobile_number\":\"+63 739 292 7943\"},\n",
    "    \"is_customer\" : True,\n",
    "    \"amount_paid\" : 24000,\n",
    "    \"customer_from\" : datetime.date(2022,4,11),\n",
    "    \"last_update_ts\" : datetime.datetime(2023,10,20, 15,0,45)\n",
    "},\n",
    "{\n",
    "    \"id\":4,\n",
    "    \"firstName\":\"Miles\",\n",
    "    \"lastName\":\"Cummerata\",\n",
    "    \"maidenName\":\"Maggio\",\n",
    "    \"age\":49,\n",
    "    \"gender\":\"male\",\n",
    "    \"email\":\"yraigatt3@nature.com\",\n",
    "    \"phone\":{\"phone_number\":\"+86 461 145 4186\",\"mobile_number\":\"+86 461 145 4188\"},\n",
    "    \"is_customer\" : True,\n",
    "    \"amount_paid\" : 10500,\n",
    "    \"customer_from\" : datetime.date(2022,8,21),\n",
    "    \"last_update_ts\" : datetime.datetime(2023,10,20, 15,0,45)\n",
    "},\n",
    "{\n",
    "    \"id\":5,\n",
    "    \"firstName\":\"Mavis\",\n",
    "    \"lastName\":\"Schultz\",\n",
    "    \"maidenName\":\"Yundt\",\n",
    "    \"age\":38,\n",
    "    \"gender\":\"male\",\n",
    "    \"email\":\"kmeus4@upenn.edu\",\n",
    "    \"phone\":{\"phone_number\":\"+372 285 771 1911\",\"mobile_number\":\"+372 285 771 1912\"},\n",
    "    \"is_customer\" : True,\n",
    "    \"amount_paid\" : 10000,\n",
    "    \"customer_from\" : datetime.date(2022,5,1),\n",
    "    \"last_update_ts\" : datetime.datetime(2023,10,20, 15,0,45)\n",
    "}]"
   ]
  },
  {
   "cell_type": "code",
   "execution_count": 9,
   "id": "ee237b8f-51ff-498c-a039-3153c0c50ba0",
   "metadata": {
    "tags": []
   },
   "outputs": [],
   "source": [
    "from pyspark.sql import Row"
   ]
  },
  {
   "cell_type": "code",
   "execution_count": 10,
   "id": "73acf727-bc16-45fd-80e9-326abcca2a24",
   "metadata": {
    "tags": []
   },
   "outputs": [],
   "source": [
    "user_rows = [Row(**user) for user in data]"
   ]
  },
  {
   "cell_type": "code",
   "execution_count": 11,
   "id": "86c68c5e-19ae-4023-a1a2-003bf87bcd05",
   "metadata": {
    "tags": []
   },
   "outputs": [
    {
     "name": "stdout",
     "output_type": "stream",
     "text": [
      "+---+---------+---------+----------+---+------+--------------------+--------------------+-----------+-----------+-------------+-------------------+\n",
      "| id|firstName| lastName|maidenName|age|gender|               email|               phone|is_customer|amount_paid|customer_from|     last_update_ts|\n",
      "+---+---------+---------+----------+---+------+--------------------+--------------------+-----------+-----------+-------------+-------------------+\n",
      "|  1|    Terry| Medhurst|   Smitham| 50|  male|     atuny0@sohu.com|{mobile_number ->...|       true|      10200|   2022-03-10|2023-10-20 15:00:45|\n",
      "|  2|  Sheldon|  Quigley|      Cole| 28|  male|hbingley1@plala.o...|{mobile_number ->...|       true|      11000|   2022-05-16|2023-10-20 15:00:45|\n",
      "|  3|  Terrill|    Hills|    Hoeger| 38|  male|       rshawe2@51.la|{mobile_number ->...|       true|      24000|   2022-04-11|2023-10-20 15:00:45|\n",
      "|  4|    Miles|Cummerata|    Maggio| 49|  male|yraigatt3@nature.com|{mobile_number ->...|       true|      10500|   2022-08-21|2023-10-20 15:00:45|\n",
      "|  5|    Mavis|  Schultz|     Yundt| 38|  male|    kmeus4@upenn.edu|{mobile_number ->...|       true|      10000|   2022-05-01|2023-10-20 15:00:45|\n",
      "+---+---------+---------+----------+---+------+--------------------+--------------------+-----------+-----------+-------------+-------------------+\n",
      "\n"
     ]
    }
   ],
   "source": [
    "spark.createDataFrame(user_rows).show()"
   ]
  },
  {
   "cell_type": "code",
   "execution_count": 12,
   "id": "b7d1648f-2926-422b-a0e6-7c6e9b70441f",
   "metadata": {
    "tags": []
   },
   "outputs": [],
   "source": [
    "df = spark.createDataFrame(user_rows)"
   ]
  },
  {
   "cell_type": "code",
   "execution_count": 7,
   "id": "c64671d8-72b4-487d-bb3b-e54e477e7cb0",
   "metadata": {
    "tags": []
   },
   "outputs": [
    {
     "data": {
      "text/plain": [
       "[('id', 'bigint'),\n",
       " ('firstName', 'string'),\n",
       " ('lastName', 'string'),\n",
       " ('maidenName', 'string'),\n",
       " ('age', 'bigint'),\n",
       " ('gender', 'string'),\n",
       " ('email', 'string'),\n",
       " ('phone', 'map<string,string>'),\n",
       " ('is_customer', 'boolean'),\n",
       " ('amount_paid', 'bigint'),\n",
       " ('customer_from', 'date'),\n",
       " ('last_update_ts', 'timestamp')]"
      ]
     },
     "execution_count": 7,
     "metadata": {},
     "output_type": "execute_result"
    }
   ],
   "source": [
    "df.dtypes"
   ]
  },
  {
   "cell_type": "code",
   "execution_count": 13,
   "id": "d810f39f-cd33-4dce-a503-7d983bb3424b",
   "metadata": {
    "tags": []
   },
   "outputs": [],
   "source": [
    "from pyspark.sql.functions import col"
   ]
  },
  {
   "cell_type": "code",
   "execution_count": 16,
   "id": "78c8add0-398c-44ad-94a3-a6c980900e3a",
   "metadata": {
    "tags": []
   },
   "outputs": [
    {
     "name": "stdout",
     "output_type": "stream",
     "text": [
      "+---+-----------------+-----------------+\n",
      "| id|            Phone|           Mobile|\n",
      "+---+-----------------+-----------------+\n",
      "|  1| +63 791 675 8914|                 |\n",
      "|  2|       +7 813 117|             null|\n",
      "|  3| +63 739 292 7942| +63 739 292 7943|\n",
      "|  4| +86 461 145 4186| +86 461 145 4188|\n",
      "|  5|+372 285 771 1911|+372 285 771 1912|\n",
      "+---+-----------------+-----------------+\n",
      "\n"
     ]
    }
   ],
   "source": [
    "df.select('id',col('phone')['phone_number'].alias('Phone'),col('phone')['mobile_number'].alias('Mobile')).show()"
   ]
  },
  {
   "cell_type": "code",
   "execution_count": 19,
   "id": "0b36e5e7-1d19-447a-a2fc-2a167f3e8082",
   "metadata": {
    "tags": []
   },
   "outputs": [],
   "source": [
    "from pyspark.sql.functions import explode"
   ]
  },
  {
   "cell_type": "code",
   "execution_count": 24,
   "id": "fc5df8d9-22c4-48d0-b640-780708a51b8d",
   "metadata": {
    "tags": []
   },
   "outputs": [
    {
     "name": "stdout",
     "output_type": "stream",
     "text": [
      "+---+---------+-------------+-----------------+\n",
      "| id|firstName|   phone_type|     phone_number|\n",
      "+---+---------+-------------+-----------------+\n",
      "|  1|    Terry|mobile_number|                 |\n",
      "|  1|    Terry| phone_number| +63 791 675 8914|\n",
      "|  2|  Sheldon|mobile_number|             null|\n",
      "|  2|  Sheldon| phone_number|       +7 813 117|\n",
      "|  3|  Terrill|mobile_number| +63 739 292 7943|\n",
      "|  3|  Terrill| phone_number| +63 739 292 7942|\n",
      "|  4|    Miles|mobile_number| +86 461 145 4188|\n",
      "|  4|    Miles| phone_number| +86 461 145 4186|\n",
      "|  5|    Mavis|mobile_number|+372 285 771 1912|\n",
      "|  5|    Mavis| phone_number|+372 285 771 1911|\n",
      "+---+---------+-------------+-----------------+\n",
      "\n"
     ]
    }
   ],
   "source": [
    "df.select('id','firstName',explode('phone')).withColumnRenamed('key','phone_type').\\\n",
    "withColumnRenamed('value','phone_number').drop('phone').show()"
   ]
  },
  {
   "cell_type": "code",
   "execution_count": 25,
   "id": "df60f04b-41e0-461e-a8e7-927c52c5284a",
   "metadata": {
    "tags": []
   },
   "outputs": [],
   "source": [
    "from pyspark.sql.functions import explode_outer"
   ]
  },
  {
   "cell_type": "code",
   "execution_count": 26,
   "id": "eb6d38bc-84f4-4ea9-9d28-def3f99516cc",
   "metadata": {
    "tags": []
   },
   "outputs": [
    {
     "name": "stdout",
     "output_type": "stream",
     "text": [
      "+---+---------+-------------+-----------------+\n",
      "| id|firstName|   phone_type|     phone_number|\n",
      "+---+---------+-------------+-----------------+\n",
      "|  1|    Terry|mobile_number|                 |\n",
      "|  1|    Terry| phone_number| +63 791 675 8914|\n",
      "|  2|  Sheldon|mobile_number|             null|\n",
      "|  2|  Sheldon| phone_number|       +7 813 117|\n",
      "|  3|  Terrill|mobile_number| +63 739 292 7943|\n",
      "|  3|  Terrill| phone_number| +63 739 292 7942|\n",
      "|  4|    Miles|mobile_number| +86 461 145 4188|\n",
      "|  4|    Miles| phone_number| +86 461 145 4186|\n",
      "|  5|    Mavis|mobile_number|+372 285 771 1912|\n",
      "|  5|    Mavis| phone_number|+372 285 771 1911|\n",
      "+---+---------+-------------+-----------------+\n",
      "\n"
     ]
    }
   ],
   "source": [
    "df.select('id','firstName',explode_outer('phone')).withColumnRenamed('key','phone_type').\\\n",
    "withColumnRenamed('value','phone_number').drop('phone').show()"
   ]
  },
  {
   "cell_type": "code",
   "execution_count": null,
   "id": "8bdabda1-e600-4509-a402-e240f362aaf9",
   "metadata": {},
   "outputs": [],
   "source": []
  }
 ],
 "metadata": {
  "kernelspec": {
   "display_name": "Python 3 (ipykernel)",
   "language": "python",
   "name": "python3"
  },
  "language_info": {
   "codemirror_mode": {
    "name": "ipython",
    "version": 3
   },
   "file_extension": ".py",
   "mimetype": "text/x-python",
   "name": "python",
   "nbconvert_exporter": "python",
   "pygments_lexer": "ipython3",
   "version": "3.11.4"
  }
 },
 "nbformat": 4,
 "nbformat_minor": 5
}
