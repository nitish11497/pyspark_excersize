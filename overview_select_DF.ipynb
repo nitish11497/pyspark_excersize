{
 "cells": [
  {
   "cell_type": "code",
   "execution_count": 1,
   "id": "cf00a1fd-fce8-4a87-a99b-ae632a2e2c36",
   "metadata": {
    "tags": []
   },
   "outputs": [],
   "source": [
    "import findspark\n",
    "findspark.init()\n",
    "from pyspark.sql import SparkSession\n",
    "spark = SparkSession.builder.master('local[1]').appName('pyspark_fresh').getOrCreate()"
   ]
  },
  {
   "cell_type": "code",
   "execution_count": 2,
   "id": "9562945f-f33e-4851-ae6a-9c0deabff793",
   "metadata": {
    "tags": []
   },
   "outputs": [],
   "source": [
    "from pyspark.sql import Row"
   ]
  },
  {
   "cell_type": "code",
   "execution_count": 3,
   "id": "d51d456d-ef0f-4d0f-be94-41273268a5d0",
   "metadata": {
    "tags": []
   },
   "outputs": [],
   "source": [
    "import datetime\n",
    "data= [{\n",
    "    \"id\":1,\n",
    "    \"firstName\":\"Terry\",\n",
    "    \"lastName\":\"Medhurst\",\n",
    "    \"email\":\"atuny0@sohu.com\",\n",
    "    \"phone\":Row(phone_number = \"+63 791 675 8914\",mobile_number = \"+63 791 675 8945\"),\n",
    "    \"courses\" : [1,2],\n",
    "    \"is_customer\" : True,\n",
    "    \"amount_paid\" : 10200,\n",
    "    \"customer_from\" : datetime.date(2022,3,10),\n",
    "    \"last_update_ts\" : datetime.datetime(2023,10,20, 15,0,45)\n",
    "},\n",
    "{\n",
    "    \"id\":2,\n",
    "    \"firstName\":\"Sheldon\",\n",
    "    \"lastName\":\"Quigley\",\n",
    "    \"email\":\"hbingley1@plala.or.jp\",\n",
    "    \"phone\":Row(phone_number=\"+7 813 117\",mobile_number=\"+7 813 119\"),\n",
    "    \"courses\" : [3],\n",
    "    \"is_customer\" : True,\n",
    "    \"amount_paid\" : 11000,\n",
    "    \"customer_from\" : datetime.date(2022,5,16),\n",
    "    \"last_update_ts\" : datetime.datetime(2023,10,20, 15,0,45)\n",
    "},\n",
    "{\n",
    "    \"id\":3,\n",
    "    \"firstName\":\"Terrill\",\n",
    "    \"lastName\":\"Hills\",\n",
    "    \"email\":\"rshawe2@51.la\",\n",
    "    \"phone\":Row(phone_number=\"+63 739 292 7942\",mobile_number=\"+63 739 292 7943\"),\n",
    "    \"courses\" : [2,4],\n",
    "    \"is_customer\" : True,\n",
    "    \"amount_paid\" : 24000,\n",
    "    \"customer_from\" : datetime.date(2022,4,11),\n",
    "    \"last_update_ts\" : datetime.datetime(2023,10,20, 15,0,45)\n",
    "},\n",
    "{\n",
    "    \"id\":4,\n",
    "    \"firstName\":\"Miles\",\n",
    "    \"lastName\":\"Cummerata\",\n",
    "    \"email\":\"yraigatt3@nature.com\",\n",
    "    \"phone\":Row(phone_number=None,mobile_number=None),\n",
    "    \"courses\" : [],\n",
    "    \"is_customer\" : False,\n",
    "    \"amount_paid\" : None,\n",
    "    \"customer_from\" : None,\n",
    "    \"last_update_ts\" : datetime.datetime(2023,10,20, 15,0,45)\n",
    "},\n",
    "{\n",
    "    \"id\":5,\n",
    "    \"firstName\":\"Mavis\",\n",
    "    \"lastName\":\"Schultz\",\n",
    "    \"email\":\"kmeus4@upenn.edu\",\n",
    "    \"phone\":Row(phone_number=\"+372 285 771 1911\",mobile_number=None),\n",
    "    \"courses\" : [],\n",
    "    \"is_customer\" : False,\n",
    "    \"amount_paid\" : None,\n",
    "    \"customer_from\" : None,\n",
    "    \"last_update_ts\" : datetime.datetime(2023,10,20, 15,0,45)\n",
    "}]"
   ]
  },
  {
   "cell_type": "code",
   "execution_count": 4,
   "id": "147e48f4-11a8-4879-ac34-baf6a7391ae6",
   "metadata": {
    "tags": []
   },
   "outputs": [],
   "source": [
    "import pandas as pd"
   ]
  },
  {
   "cell_type": "code",
   "execution_count": 5,
   "id": "db4f58db-9d56-4c8e-930d-81d869097648",
   "metadata": {
    "tags": []
   },
   "outputs": [],
   "source": [
    "df = spark.createDataFrame(pd.DataFrame(data))"
   ]
  },
  {
   "cell_type": "code",
   "execution_count": 6,
   "id": "2d422a07-c820-4657-95c6-6e24871840e1",
   "metadata": {
    "tags": []
   },
   "outputs": [
    {
     "name": "stdout",
     "output_type": "stream",
     "text": [
      "+---+---------+---------+--------------------+--------------------+-------+-----------+-----------+-------------+-------------------+\n",
      "| id|firstName| lastName|               email|               phone|courses|is_customer|amount_paid|customer_from|     last_update_ts|\n",
      "+---+---------+---------+--------------------+--------------------+-------+-----------+-----------+-------------+-------------------+\n",
      "|  1|    Terry| Medhurst|     atuny0@sohu.com|{+63 791 675 8914...| [1, 2]|       true|    10200.0|   2022-03-10|2023-10-20 15:00:45|\n",
      "|  2|  Sheldon|  Quigley|hbingley1@plala.o...|{+7 813 117, +7 8...|    [3]|       true|    11000.0|   2022-05-16|2023-10-20 15:00:45|\n",
      "|  3|  Terrill|    Hills|       rshawe2@51.la|{+63 739 292 7942...| [2, 4]|       true|    24000.0|   2022-04-11|2023-10-20 15:00:45|\n",
      "|  4|    Miles|Cummerata|yraigatt3@nature.com|        {null, null}|     []|      false|        NaN|         null|2023-10-20 15:00:45|\n",
      "|  5|    Mavis|  Schultz|    kmeus4@upenn.edu|{+372 285 771 191...|     []|      false|        NaN|         null|2023-10-20 15:00:45|\n",
      "+---+---------+---------+--------------------+--------------------+-------+-----------+-----------+-------------+-------------------+\n",
      "\n"
     ]
    }
   ],
   "source": [
    "df.show()"
   ]
  },
  {
   "cell_type": "code",
   "execution_count": 7,
   "id": "eeade6f0-e873-4bc2-8379-de25daf94202",
   "metadata": {
    "tags": []
   },
   "outputs": [
    {
     "name": "stdout",
     "output_type": "stream",
     "text": [
      "Help on method select in module pyspark.sql.dataframe:\n",
      "\n",
      "select(*cols: 'ColumnOrName') -> 'DataFrame' method of pyspark.sql.dataframe.DataFrame instance\n",
      "    Projects a set of expressions and returns a new :class:`DataFrame`.\n",
      "    \n",
      "    .. versionadded:: 1.3.0\n",
      "    \n",
      "    .. versionchanged:: 3.4.0\n",
      "        Supports Spark Connect.\n",
      "    \n",
      "    Parameters\n",
      "    ----------\n",
      "    cols : str, :class:`Column`, or list\n",
      "        column names (string) or expressions (:class:`Column`).\n",
      "        If one of the column names is '*', that column is expanded to include all columns\n",
      "        in the current :class:`DataFrame`.\n",
      "    \n",
      "    Returns\n",
      "    -------\n",
      "    :class:`DataFrame`\n",
      "        A DataFrame with subset (or all) of columns.\n",
      "    \n",
      "    Examples\n",
      "    --------\n",
      "    >>> df = spark.createDataFrame([\n",
      "    ...     (2, \"Alice\"), (5, \"Bob\")], schema=[\"age\", \"name\"])\n",
      "    \n",
      "    Select all columns in the DataFrame.\n",
      "    \n",
      "    >>> df.select('*').show()\n",
      "    +---+-----+\n",
      "    |age| name|\n",
      "    +---+-----+\n",
      "    |  2|Alice|\n",
      "    |  5|  Bob|\n",
      "    +---+-----+\n",
      "    \n",
      "    Select a column with other expressions in the DataFrame.\n",
      "    \n",
      "    >>> df.select(df.name, (df.age + 10).alias('age')).show()\n",
      "    +-----+---+\n",
      "    | name|age|\n",
      "    +-----+---+\n",
      "    |Alice| 12|\n",
      "    |  Bob| 15|\n",
      "    +-----+---+\n",
      "\n"
     ]
    }
   ],
   "source": [
    "help(df.select)"
   ]
  },
  {
   "cell_type": "code",
   "execution_count": 8,
   "id": "70f50d0e-ba52-4c69-a9ad-72af7d8a6d57",
   "metadata": {
    "tags": []
   },
   "outputs": [
    {
     "name": "stdout",
     "output_type": "stream",
     "text": [
      "+---+---------+---------+--------------------+--------------------+-------+-----------+-----------+-------------+-------------------+\n",
      "| id|firstName| lastName|               email|               phone|courses|is_customer|amount_paid|customer_from|     last_update_ts|\n",
      "+---+---------+---------+--------------------+--------------------+-------+-----------+-----------+-------------+-------------------+\n",
      "|  1|    Terry| Medhurst|     atuny0@sohu.com|{+63 791 675 8914...| [1, 2]|       true|    10200.0|   2022-03-10|2023-10-20 15:00:45|\n",
      "|  2|  Sheldon|  Quigley|hbingley1@plala.o...|{+7 813 117, +7 8...|    [3]|       true|    11000.0|   2022-05-16|2023-10-20 15:00:45|\n",
      "|  3|  Terrill|    Hills|       rshawe2@51.la|{+63 739 292 7942...| [2, 4]|       true|    24000.0|   2022-04-11|2023-10-20 15:00:45|\n",
      "|  4|    Miles|Cummerata|yraigatt3@nature.com|        {null, null}|     []|      false|        NaN|         null|2023-10-20 15:00:45|\n",
      "|  5|    Mavis|  Schultz|    kmeus4@upenn.edu|{+372 285 771 191...|     []|      false|        NaN|         null|2023-10-20 15:00:45|\n",
      "+---+---------+---------+--------------------+--------------------+-------+-----------+-----------+-------------+-------------------+\n",
      "\n"
     ]
    }
   ],
   "source": [
    "df.select('*').show()"
   ]
  },
  {
   "cell_type": "code",
   "execution_count": 9,
   "id": "2de98e63-f004-4ca5-ac41-b1b66c71ef99",
   "metadata": {
    "tags": []
   },
   "outputs": [
    {
     "name": "stdout",
     "output_type": "stream",
     "text": [
      "+---+---------+--------------------+\n",
      "| id|firstName|               email|\n",
      "+---+---------+--------------------+\n",
      "|  1|    Terry|     atuny0@sohu.com|\n",
      "|  2|  Sheldon|hbingley1@plala.o...|\n",
      "|  3|  Terrill|       rshawe2@51.la|\n",
      "|  4|    Miles|yraigatt3@nature.com|\n",
      "|  5|    Mavis|    kmeus4@upenn.edu|\n",
      "+---+---------+--------------------+\n",
      "\n"
     ]
    }
   ],
   "source": [
    "df.select('id','firstName','email').show()"
   ]
  },
  {
   "cell_type": "code",
   "execution_count": 10,
   "id": "4f5a42fd-9c2e-46c2-a27c-ddab893601e7",
   "metadata": {
    "tags": []
   },
   "outputs": [
    {
     "name": "stdout",
     "output_type": "stream",
     "text": [
      "+---+---------+--------------------+\n",
      "| id|firstName|               email|\n",
      "+---+---------+--------------------+\n",
      "|  1|    Terry|     atuny0@sohu.com|\n",
      "|  2|  Sheldon|hbingley1@plala.o...|\n",
      "|  3|  Terrill|       rshawe2@51.la|\n",
      "|  4|    Miles|yraigatt3@nature.com|\n",
      "|  5|    Mavis|    kmeus4@upenn.edu|\n",
      "+---+---------+--------------------+\n",
      "\n"
     ]
    }
   ],
   "source": [
    "df.select(['id','firstName','email']).show()"
   ]
  },
  {
   "cell_type": "code",
   "execution_count": 11,
   "id": "b16da699-6843-4cbd-95c8-6318b334cac6",
   "metadata": {
    "tags": []
   },
   "outputs": [
    {
     "name": "stdout",
     "output_type": "stream",
     "text": [
      "+---+---------+---------+--------------------+--------------------+-------+-----------+-----------+-------------+-------------------+\n",
      "| id|firstName| lastName|               email|               phone|courses|is_customer|amount_paid|customer_from|     last_update_ts|\n",
      "+---+---------+---------+--------------------+--------------------+-------+-----------+-----------+-------------+-------------------+\n",
      "|  1|    Terry| Medhurst|     atuny0@sohu.com|{+63 791 675 8914...| [1, 2]|       true|    10200.0|   2022-03-10|2023-10-20 15:00:45|\n",
      "|  2|  Sheldon|  Quigley|hbingley1@plala.o...|{+7 813 117, +7 8...|    [3]|       true|    11000.0|   2022-05-16|2023-10-20 15:00:45|\n",
      "|  3|  Terrill|    Hills|       rshawe2@51.la|{+63 739 292 7942...| [2, 4]|       true|    24000.0|   2022-04-11|2023-10-20 15:00:45|\n",
      "|  4|    Miles|Cummerata|yraigatt3@nature.com|        {null, null}|     []|      false|        NaN|         null|2023-10-20 15:00:45|\n",
      "|  5|    Mavis|  Schultz|    kmeus4@upenn.edu|{+372 285 771 191...|     []|      false|        NaN|         null|2023-10-20 15:00:45|\n",
      "+---+---------+---------+--------------------+--------------------+-------+-----------+-----------+-------------+-------------------+\n",
      "\n"
     ]
    }
   ],
   "source": [
    "# defining the alias to dataframe\n",
    "df.alias('u').select('u.*').show()"
   ]
  },
  {
   "cell_type": "code",
   "execution_count": 12,
   "id": "6434b7dd-40e1-4dc4-989b-b0d29f21b3ce",
   "metadata": {
    "tags": []
   },
   "outputs": [
    {
     "name": "stdout",
     "output_type": "stream",
     "text": [
      "+---+---------+--------------------+\n",
      "| id|firstName|               email|\n",
      "+---+---------+--------------------+\n",
      "|  1|    Terry|     atuny0@sohu.com|\n",
      "|  2|  Sheldon|hbingley1@plala.o...|\n",
      "|  3|  Terrill|       rshawe2@51.la|\n",
      "|  4|    Miles|yraigatt3@nature.com|\n",
      "|  5|    Mavis|    kmeus4@upenn.edu|\n",
      "+---+---------+--------------------+\n",
      "\n"
     ]
    }
   ],
   "source": [
    "df.alias('u').select('u.id','u.firstName','u.email').show()"
   ]
  },
  {
   "cell_type": "code",
   "execution_count": 14,
   "id": "9b0efc89-c3b9-44c1-b012-102f5a9508ca",
   "metadata": {
    "tags": []
   },
   "outputs": [],
   "source": [
    "from pyspark.sql.functions import col"
   ]
  },
  {
   "cell_type": "code",
   "execution_count": 16,
   "id": "515de06c-84b7-407c-8e15-ee905f09caaf",
   "metadata": {
    "tags": []
   },
   "outputs": [
    {
     "name": "stdout",
     "output_type": "stream",
     "text": [
      "+---+---------+--------------------+\n",
      "| id|firstName|               email|\n",
      "+---+---------+--------------------+\n",
      "|  1|    Terry|     atuny0@sohu.com|\n",
      "|  2|  Sheldon|hbingley1@plala.o...|\n",
      "|  3|  Terrill|       rshawe2@51.la|\n",
      "|  4|    Miles|yraigatt3@nature.com|\n",
      "|  5|    Mavis|    kmeus4@upenn.edu|\n",
      "+---+---------+--------------------+\n",
      "\n"
     ]
    }
   ],
   "source": [
    "df.select(col('id'),'firstName','email').show()"
   ]
  },
  {
   "cell_type": "code",
   "execution_count": 17,
   "id": "5b5de81c-1f78-4216-a3f4-97920030d88e",
   "metadata": {
    "tags": []
   },
   "outputs": [],
   "source": [
    "from pyspark.sql.functions import col,concat,lit"
   ]
  },
  {
   "cell_type": "code",
   "execution_count": 18,
   "id": "811afa78-3ff4-4ebe-98ae-39a2da4389c9",
   "metadata": {
    "tags": []
   },
   "outputs": [
    {
     "name": "stdout",
     "output_type": "stream",
     "text": [
      "+---+---------+---------+---------------+\n",
      "| id|firstName| lastName|       fullName|\n",
      "+---+---------+---------+---------------+\n",
      "|  1|    Terry| Medhurst| Terry,Medhurst|\n",
      "|  2|  Sheldon|  Quigley|Sheldon,Quigley|\n",
      "|  3|  Terrill|    Hills|  Terrill,Hills|\n",
      "|  4|    Miles|Cummerata|Miles,Cummerata|\n",
      "|  5|    Mavis|  Schultz|  Mavis,Schultz|\n",
      "+---+---------+---------+---------------+\n",
      "\n"
     ]
    }
   ],
   "source": [
    "df.select(col('id'),'firstName','lastName',concat(col('firstName'),lit(','),col('lastName')).alias('fullName')).show()"
   ]
  },
  {
   "cell_type": "markdown",
   "id": "adebdee5-eb36-405c-b09b-bc07ea113373",
   "metadata": {},
   "source": [
    "## pyspark DataFrame selectExpr"
   ]
  },
  {
   "cell_type": "code",
   "execution_count": 19,
   "id": "6166f172-c2a5-493a-80fd-f35de4589404",
   "metadata": {
    "tags": []
   },
   "outputs": [
    {
     "name": "stdout",
     "output_type": "stream",
     "text": [
      "+---+---------+---------+--------------------+--------------------+-------+-----------+-----------+-------------+-------------------+\n",
      "| id|firstName| lastName|               email|               phone|courses|is_customer|amount_paid|customer_from|     last_update_ts|\n",
      "+---+---------+---------+--------------------+--------------------+-------+-----------+-----------+-------------+-------------------+\n",
      "|  1|    Terry| Medhurst|     atuny0@sohu.com|{+63 791 675 8914...| [1, 2]|       true|    10200.0|   2022-03-10|2023-10-20 15:00:45|\n",
      "|  2|  Sheldon|  Quigley|hbingley1@plala.o...|{+7 813 117, +7 8...|    [3]|       true|    11000.0|   2022-05-16|2023-10-20 15:00:45|\n",
      "|  3|  Terrill|    Hills|       rshawe2@51.la|{+63 739 292 7942...| [2, 4]|       true|    24000.0|   2022-04-11|2023-10-20 15:00:45|\n",
      "|  4|    Miles|Cummerata|yraigatt3@nature.com|        {null, null}|     []|      false|        NaN|         null|2023-10-20 15:00:45|\n",
      "|  5|    Mavis|  Schultz|    kmeus4@upenn.edu|{+372 285 771 191...|     []|      false|        NaN|         null|2023-10-20 15:00:45|\n",
      "+---+---------+---------+--------------------+--------------------+-------+-----------+-----------+-------------+-------------------+\n",
      "\n"
     ]
    }
   ],
   "source": [
    "df.selectExpr('*').show()"
   ]
  },
  {
   "cell_type": "code",
   "execution_count": 21,
   "id": "5c459eef-0828-416a-b62f-1fc8b99eae2a",
   "metadata": {
    "tags": []
   },
   "outputs": [
    {
     "name": "stdout",
     "output_type": "stream",
     "text": [
      "+---+---------+---------+\n",
      "| id|firstName| lastName|\n",
      "+---+---------+---------+\n",
      "|  1|    Terry| Medhurst|\n",
      "|  2|  Sheldon|  Quigley|\n",
      "|  3|  Terrill|    Hills|\n",
      "|  4|    Miles|Cummerata|\n",
      "|  5|    Mavis|  Schultz|\n",
      "+---+---------+---------+\n",
      "\n"
     ]
    }
   ],
   "source": [
    "df.selectExpr('id','firstName','lastName').show()"
   ]
  },
  {
   "cell_type": "code",
   "execution_count": 22,
   "id": "0e14ae2e-3676-43f5-b3a4-141acec4f2a2",
   "metadata": {
    "tags": []
   },
   "outputs": [
    {
     "name": "stdout",
     "output_type": "stream",
     "text": [
      "+---+---------+---------+\n",
      "| id|firstName| lastName|\n",
      "+---+---------+---------+\n",
      "|  1|    Terry| Medhurst|\n",
      "|  2|  Sheldon|  Quigley|\n",
      "|  3|  Terrill|    Hills|\n",
      "|  4|    Miles|Cummerata|\n",
      "|  5|    Mavis|  Schultz|\n",
      "+---+---------+---------+\n",
      "\n"
     ]
    }
   ],
   "source": [
    "df.selectExpr(['id','firstName','lastName']).show()"
   ]
  },
  {
   "cell_type": "code",
   "execution_count": 23,
   "id": "faabe533-d7f6-4c8c-9f10-8003dc336e02",
   "metadata": {
    "tags": []
   },
   "outputs": [
    {
     "name": "stdout",
     "output_type": "stream",
     "text": [
      "+---+---------+---------+--------------------+--------------------+-------+-----------+-----------+-------------+-------------------+\n",
      "| id|firstName| lastName|               email|               phone|courses|is_customer|amount_paid|customer_from|     last_update_ts|\n",
      "+---+---------+---------+--------------------+--------------------+-------+-----------+-----------+-------------+-------------------+\n",
      "|  1|    Terry| Medhurst|     atuny0@sohu.com|{+63 791 675 8914...| [1, 2]|       true|    10200.0|   2022-03-10|2023-10-20 15:00:45|\n",
      "|  2|  Sheldon|  Quigley|hbingley1@plala.o...|{+7 813 117, +7 8...|    [3]|       true|    11000.0|   2022-05-16|2023-10-20 15:00:45|\n",
      "|  3|  Terrill|    Hills|       rshawe2@51.la|{+63 739 292 7942...| [2, 4]|       true|    24000.0|   2022-04-11|2023-10-20 15:00:45|\n",
      "|  4|    Miles|Cummerata|yraigatt3@nature.com|        {null, null}|     []|      false|        NaN|         null|2023-10-20 15:00:45|\n",
      "|  5|    Mavis|  Schultz|    kmeus4@upenn.edu|{+372 285 771 191...|     []|      false|        NaN|         null|2023-10-20 15:00:45|\n",
      "+---+---------+---------+--------------------+--------------------+-------+-----------+-----------+-------------+-------------------+\n",
      "\n"
     ]
    }
   ],
   "source": [
    "df.alias('u').selectExpr('u.*').show()"
   ]
  },
  {
   "cell_type": "code",
   "execution_count": 25,
   "id": "06183cda-53f7-4d70-b49a-4083be1acd90",
   "metadata": {
    "tags": []
   },
   "outputs": [
    {
     "name": "stdout",
     "output_type": "stream",
     "text": [
      "+---+---------+---------+---------------+\n",
      "| id|firstName| lastName|       fullName|\n",
      "+---+---------+---------+---------------+\n",
      "|  1|    Terry| Medhurst| Terry,Medhurst|\n",
      "|  2|  Sheldon|  Quigley|Sheldon,Quigley|\n",
      "|  3|  Terrill|    Hills|  Terrill,Hills|\n",
      "|  4|    Miles|Cummerata|Miles,Cummerata|\n",
      "|  5|    Mavis|  Schultz|  Mavis,Schultz|\n",
      "+---+---------+---------+---------------+\n",
      "\n"
     ]
    }
   ],
   "source": [
    "df.selectExpr('id','firstName','lastName',\"concat(firstName,',',lastName) AS fullName\").show()"
   ]
  },
  {
   "cell_type": "code",
   "execution_count": 27,
   "id": "56e7e9b9-1a49-4aa0-8cc5-c203b135a6f3",
   "metadata": {
    "tags": []
   },
   "outputs": [],
   "source": [
    "df.createOrReplaceTempView('users')"
   ]
  },
  {
   "cell_type": "code",
   "execution_count": 29,
   "id": "bdb6847b-e20f-4c2f-a9cd-cfa9bb19198c",
   "metadata": {
    "tags": []
   },
   "outputs": [
    {
     "name": "stdout",
     "output_type": "stream",
     "text": [
      "+---+---------+---------+---------------+\n",
      "| id|firstName| lastName|       fullName|\n",
      "+---+---------+---------+---------------+\n",
      "|  1|    Terry| Medhurst| Terry,Medhurst|\n",
      "|  2|  Sheldon|  Quigley|Sheldon,Quigley|\n",
      "|  3|  Terrill|    Hills|  Terrill,Hills|\n",
      "|  4|    Miles|Cummerata|Miles,Cummerata|\n",
      "|  5|    Mavis|  Schultz|  Mavis,Schultz|\n",
      "+---+---------+---------+---------------+\n",
      "\n"
     ]
    }
   ],
   "source": [
    "spark.sql(\"\"\"\n",
    "    select id,firstName,lastName,\n",
    "    concat(firstName,',',lastName) AS fullName\n",
    "    FROM users\n",
    "\"\"\").show()"
   ]
  },
  {
   "cell_type": "code",
   "execution_count": 30,
   "id": "01697ff1-ba41-4146-b887-dac8dc402fd8",
   "metadata": {
    "tags": []
   },
   "outputs": [
    {
     "name": "stdout",
     "output_type": "stream",
     "text": [
      "Help on method selectExpr in module pyspark.sql.dataframe:\n",
      "\n",
      "selectExpr(*expr: Union[str, List[str]]) -> 'DataFrame' method of pyspark.sql.dataframe.DataFrame instance\n",
      "    Projects a set of SQL expressions and returns a new :class:`DataFrame`.\n",
      "    \n",
      "    This is a variant of :func:`select` that accepts SQL expressions.\n",
      "    \n",
      "    .. versionadded:: 1.3.0\n",
      "    \n",
      "    .. versionchanged:: 3.4.0\n",
      "        Supports Spark Connect.\n",
      "    \n",
      "    Returns\n",
      "    -------\n",
      "    :class:`DataFrame`\n",
      "        A DataFrame with new/old columns transformed by expressions.\n",
      "    \n",
      "    Examples\n",
      "    --------\n",
      "    >>> df = spark.createDataFrame([\n",
      "    ...     (2, \"Alice\"), (5, \"Bob\")], schema=[\"age\", \"name\"])\n",
      "    >>> df.selectExpr(\"age * 2\", \"abs(age)\").show()\n",
      "    +---------+--------+\n",
      "    |(age * 2)|abs(age)|\n",
      "    +---------+--------+\n",
      "    |        4|       2|\n",
      "    |       10|       5|\n",
      "    +---------+--------+\n",
      "\n"
     ]
    }
   ],
   "source": [
    "help(df.selectExpr)"
   ]
  },
  {
   "cell_type": "code",
   "execution_count": null,
   "id": "b23a0978-a5e9-4b8a-90b0-a2c82b113c70",
   "metadata": {},
   "outputs": [],
   "source": []
  },
  {
   "cell_type": "code",
   "execution_count": null,
   "id": "fbf534a7-d755-4cee-8606-14a093f7777f",
   "metadata": {},
   "outputs": [],
   "source": []
  }
 ],
 "metadata": {
  "kernelspec": {
   "display_name": "Python 3 (ipykernel)",
   "language": "python",
   "name": "python3"
  },
  "language_info": {
   "codemirror_mode": {
    "name": "ipython",
    "version": 3
   },
   "file_extension": ".py",
   "mimetype": "text/x-python",
   "name": "python",
   "nbconvert_exporter": "python",
   "pygments_lexer": "ipython3",
   "version": "3.11.4"
  },
  "toc-showtags": false
 },
 "nbformat": 4,
 "nbformat_minor": 5
}
