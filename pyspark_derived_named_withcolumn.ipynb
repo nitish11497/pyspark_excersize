{
 "cells": [
  {
   "cell_type": "code",
   "execution_count": 1,
   "id": "1398b973-4a0b-474d-a20c-e21043615d43",
   "metadata": {
    "tags": []
   },
   "outputs": [],
   "source": [
    "import findspark\n",
    "findspark.init()\n",
    "from pyspark.sql import SparkSession\n",
    "spark = SparkSession.builder.master('local[1]').appName('pyspark_fresh').getOrCreate()"
   ]
  },
  {
   "cell_type": "code",
   "execution_count": 2,
   "id": "30256575-6828-49c0-8139-86f8050c4bca",
   "metadata": {
    "tags": []
   },
   "outputs": [],
   "source": [
    "from pyspark.sql import Row"
   ]
  },
  {
   "cell_type": "code",
   "execution_count": 3,
   "id": "f040ae68-c637-4a31-9604-dee2b560276a",
   "metadata": {
    "tags": []
   },
   "outputs": [],
   "source": [
    "import datetime\n",
    "data= [{\n",
    "    \"id\":1,\n",
    "    \"firstName\":\"Terry\",\n",
    "    \"lastName\":\"Medhurst\",\n",
    "    \"email\":\"atuny0@sohu.com\",\n",
    "    \"phone\":Row(phone_number = \"+63 791 675 8914\",mobile_number = \"+63 791 675 8945\"),\n",
    "    \"courses\" : [1,2],\n",
    "    \"is_customer\" : True,\n",
    "    \"amount_paid\" : 10200,\n",
    "    \"customer_from\" : datetime.date(2022,3,10),\n",
    "    \"last_update_ts\" : datetime.datetime(2023,10,20, 15,0,45)\n",
    "},\n",
    "{\n",
    "    \"id\":2,\n",
    "    \"firstName\":\"Sheldon\",\n",
    "    \"lastName\":\"Quigley\",\n",
    "    \"email\":\"hbingley1@plala.or.jp\",\n",
    "    \"phone\":Row(phone_number=\"+7 813 117\",mobile_number=\"+7 813 119\"),\n",
    "    \"courses\" : [3],\n",
    "    \"is_customer\" : True,\n",
    "    \"amount_paid\" : 11000,\n",
    "    \"customer_from\" : datetime.date(2022,5,16),\n",
    "    \"last_update_ts\" : datetime.datetime(2023,10,20, 15,0,45)\n",
    "},\n",
    "{\n",
    "    \"id\":3,\n",
    "    \"firstName\":\"Terrill\",\n",
    "    \"lastName\":\"Hills\",\n",
    "    \"email\":\"rshawe2@51.la\",\n",
    "    \"phone\":Row(phone_number=\"+63 739 292 7942\",mobile_number=\"+63 739 292 7943\"),\n",
    "    \"courses\" : [2,4],\n",
    "    \"is_customer\" : True,\n",
    "    \"amount_paid\" : 24000,\n",
    "    \"customer_from\" : datetime.date(2022,4,11),\n",
    "    \"last_update_ts\" : datetime.datetime(2023,10,20, 15,0,45)\n",
    "},\n",
    "{\n",
    "    \"id\":4,\n",
    "    \"firstName\":\"Miles\",\n",
    "    \"lastName\":\"Cummerata\",\n",
    "    \"email\":\"yraigatt3@nature.com\",\n",
    "    \"phone\":Row(phone_number=None,mobile_number=None),\n",
    "    \"courses\" : [],\n",
    "    \"is_customer\" : False,\n",
    "    \"amount_paid\" : None,\n",
    "    \"customer_from\" : None,\n",
    "    \"last_update_ts\" : datetime.datetime(2023,10,20, 15,0,45)\n",
    "},\n",
    "{\n",
    "    \"id\":5,\n",
    "    \"firstName\":\"Mavis\",\n",
    "    \"lastName\":\"Schultz\",\n",
    "    \"email\":\"kmeus4@upenn.edu\",\n",
    "    \"phone\":Row(phone_number=\"+372 285 771 1911\",mobile_number=None),\n",
    "    \"courses\" : [],\n",
    "    \"is_customer\" : False,\n",
    "    \"amount_paid\" : None,\n",
    "    \"customer_from\" : None,\n",
    "    \"last_update_ts\" : datetime.datetime(2023,10,20, 15,0,45)\n",
    "}]"
   ]
  },
  {
   "cell_type": "code",
   "execution_count": 4,
   "id": "de3d28e5-6928-473d-8c16-dc2cf888c79a",
   "metadata": {
    "tags": []
   },
   "outputs": [],
   "source": [
    "import pandas as pd"
   ]
  },
  {
   "cell_type": "code",
   "execution_count": 5,
   "id": "f1e5ad38-eb34-4c76-b151-b712674f7c61",
   "metadata": {
    "tags": []
   },
   "outputs": [],
   "source": [
    "df = spark.createDataFrame(pd.DataFrame(data))"
   ]
  },
  {
   "cell_type": "code",
   "execution_count": 6,
   "id": "9a940fff-aa8c-4107-9c16-0eb49f8cfd58",
   "metadata": {
    "tags": []
   },
   "outputs": [
    {
     "name": "stdout",
     "output_type": "stream",
     "text": [
      "+---+---------+---------+--------------------+--------------------+-------+-----------+-----------+-------------+-------------------+\n",
      "| id|firstName| lastName|               email|               phone|courses|is_customer|amount_paid|customer_from|     last_update_ts|\n",
      "+---+---------+---------+--------------------+--------------------+-------+-----------+-----------+-------------+-------------------+\n",
      "|  1|    Terry| Medhurst|     atuny0@sohu.com|{+63 791 675 8914...| [1, 2]|       true|    10200.0|   2022-03-10|2023-10-20 15:00:45|\n",
      "|  2|  Sheldon|  Quigley|hbingley1@plala.o...|{+7 813 117, +7 8...|    [3]|       true|    11000.0|   2022-05-16|2023-10-20 15:00:45|\n",
      "|  3|  Terrill|    Hills|       rshawe2@51.la|{+63 739 292 7942...| [2, 4]|       true|    24000.0|   2022-04-11|2023-10-20 15:00:45|\n",
      "|  4|    Miles|Cummerata|yraigatt3@nature.com|        {null, null}|     []|      false|        NaN|         null|2023-10-20 15:00:45|\n",
      "|  5|    Mavis|  Schultz|    kmeus4@upenn.edu|{+372 285 771 191...|     []|      false|        NaN|         null|2023-10-20 15:00:45|\n",
      "+---+---------+---------+--------------------+--------------------+-------+-----------+-----------+-------------+-------------------+\n",
      "\n"
     ]
    }
   ],
   "source": [
    "df.show()"
   ]
  },
  {
   "cell_type": "code",
   "execution_count": 7,
   "id": "d7d2e2d5-7508-4042-b1ce-c9e6c86c3461",
   "metadata": {
    "tags": []
   },
   "outputs": [],
   "source": [
    "from pyspark.sql.functions import concat,lit"
   ]
  },
  {
   "cell_type": "code",
   "execution_count": 8,
   "id": "4876052c-dfd9-41ee-abd6-f92034f93354",
   "metadata": {
    "tags": []
   },
   "outputs": [
    {
     "name": "stdout",
     "output_type": "stream",
     "text": [
      "+---+---------+---------+\n",
      "| id|firstName| lastName|\n",
      "+---+---------+---------+\n",
      "|  1|    Terry| Medhurst|\n",
      "|  2|  Sheldon|  Quigley|\n",
      "|  3|  Terrill|    Hills|\n",
      "|  4|    Miles|Cummerata|\n",
      "|  5|    Mavis|  Schultz|\n",
      "+---+---------+---------+\n",
      "\n"
     ]
    }
   ],
   "source": [
    "df.select('id','firstName','lastName').show()"
   ]
  },
  {
   "cell_type": "code",
   "execution_count": 10,
   "id": "285be934-90e7-4df7-81db-c6c36960d6ef",
   "metadata": {
    "tags": []
   },
   "outputs": [
    {
     "name": "stdout",
     "output_type": "stream",
     "text": [
      "+---+----------------+\n",
      "| id|        fullName|\n",
      "+---+----------------+\n",
      "|  1| Terry, Medhurst|\n",
      "|  2|Sheldon, Quigley|\n",
      "|  3|  Terrill, Hills|\n",
      "|  4|Miles, Cummerata|\n",
      "|  5|  Mavis, Schultz|\n",
      "+---+----------------+\n",
      "\n"
     ]
    }
   ],
   "source": [
    "df.select('id',concat('firstName',lit(', '),'lastName').alias('fullName')).show()"
   ]
  },
  {
   "cell_type": "code",
   "execution_count": 11,
   "id": "7acc3f60-a286-42e0-afe6-cd7622ab2531",
   "metadata": {
    "tags": []
   },
   "outputs": [
    {
     "name": "stdout",
     "output_type": "stream",
     "text": [
      "+---+---------+---------+----------------+\n",
      "| id|firstName| lastName|        fullName|\n",
      "+---+---------+---------+----------------+\n",
      "|  1|    Terry| Medhurst| Terry, Medhurst|\n",
      "|  2|  Sheldon|  Quigley|Sheldon, Quigley|\n",
      "|  3|  Terrill|    Hills|  Terrill, Hills|\n",
      "|  4|    Miles|Cummerata|Miles, Cummerata|\n",
      "|  5|    Mavis|  Schultz|  Mavis, Schultz|\n",
      "+---+---------+---------+----------------+\n",
      "\n"
     ]
    }
   ],
   "source": [
    "df.select('id','firstName','lastName').withColumn('fullName',concat('firstName',lit(', '),'lastName')).show()"
   ]
  },
  {
   "cell_type": "code",
   "execution_count": 13,
   "id": "575a5b6d-da77-41da-a15d-61bcc072911d",
   "metadata": {
    "tags": []
   },
   "outputs": [
    {
     "name": "stdout",
     "output_type": "stream",
     "text": [
      "+---+---------+---------+----------------+\n",
      "| id|firstName| lastName|        fullName|\n",
      "+---+---------+---------+----------------+\n",
      "|  1|    Terry| Medhurst| Terry, Medhurst|\n",
      "|  2|  Sheldon|  Quigley|Sheldon, Quigley|\n",
      "|  3|  Terrill|    Hills|  Terrill, Hills|\n",
      "|  4|    Miles|Cummerata|Miles, Cummerata|\n",
      "|  5|    Mavis|  Schultz|  Mavis, Schultz|\n",
      "+---+---------+---------+----------------+\n",
      "\n"
     ]
    }
   ],
   "source": [
    "## when use withColumn ignore the alias.\n",
    "df.select('id','firstName','lastName').withColumn('fullName',concat('firstName',lit(', '),'lastName').alias('fn')).show()"
   ]
  },
  {
   "cell_type": "code",
   "execution_count": 14,
   "id": "fc272c07-c15f-415c-8e0f-9d267d1eba3f",
   "metadata": {
    "tags": []
   },
   "outputs": [
    {
     "name": "stdout",
     "output_type": "stream",
     "text": [
      "+---+----------------+---------+\n",
      "| id|       firstName| lastName|\n",
      "+---+----------------+---------+\n",
      "|  1| Terry, Medhurst| Medhurst|\n",
      "|  2|Sheldon, Quigley|  Quigley|\n",
      "|  3|  Terrill, Hills|    Hills|\n",
      "|  4|Miles, Cummerata|Cummerata|\n",
      "|  5|  Mavis, Schultz|  Schultz|\n",
      "+---+----------------+---------+\n",
      "\n"
     ]
    }
   ],
   "source": [
    "df.select('id','firstName','lastName').withColumn('firstName',concat('firstName',lit(', '),'lastName')).show()"
   ]
  },
  {
   "cell_type": "code",
   "execution_count": 23,
   "id": "723698ca-a54a-4279-963f-97ec1a00c6dd",
   "metadata": {
    "tags": []
   },
   "outputs": [
    {
     "ename": "PySparkTypeError",
     "evalue": "[NOT_COLUMN] Argument `col` should be a Column, got str.",
     "output_type": "error",
     "traceback": [
      "\u001b[1;31m---------------------------------------------------------------------------\u001b[0m",
      "\u001b[1;31mPySparkTypeError\u001b[0m                          Traceback (most recent call last)",
      "Cell \u001b[1;32mIn[23], line 1\u001b[0m\n\u001b[1;32m----> 1\u001b[0m df\u001b[38;5;241m.\u001b[39mselect(\u001b[38;5;124m'\u001b[39m\u001b[38;5;124mid\u001b[39m\u001b[38;5;124m'\u001b[39m,\u001b[38;5;124m'\u001b[39m\u001b[38;5;124mfirstName\u001b[39m\u001b[38;5;124m'\u001b[39m,\u001b[38;5;124m'\u001b[39m\u001b[38;5;124mlastName\u001b[39m\u001b[38;5;124m'\u001b[39m)\u001b[38;5;241m.\u001b[39mwithColumn(\u001b[38;5;124m'\u001b[39m\u001b[38;5;124mfn\u001b[39m\u001b[38;5;124m'\u001b[39m,\u001b[38;5;124m'\u001b[39m\u001b[38;5;124mfirstName\u001b[39m\u001b[38;5;124m'\u001b[39m)\n",
      "File \u001b[1;32m~\\AppData\\Local\\anaconda3\\Lib\\site-packages\\pyspark\\sql\\dataframe.py:4785\u001b[0m, in \u001b[0;36mDataFrame.withColumn\u001b[1;34m(self, colName, col)\u001b[0m\n\u001b[0;32m   4742\u001b[0m \u001b[38;5;250m\u001b[39m\u001b[38;5;124;03m\"\"\"\u001b[39;00m\n\u001b[0;32m   4743\u001b[0m \u001b[38;5;124;03mReturns a new :class:`DataFrame` by adding a column or replacing the\u001b[39;00m\n\u001b[0;32m   4744\u001b[0m \u001b[38;5;124;03mexisting column that has the same name.\u001b[39;00m\n\u001b[1;32m   (...)\u001b[0m\n\u001b[0;32m   4782\u001b[0m \u001b[38;5;124;03m+---+-----+----+\u001b[39;00m\n\u001b[0;32m   4783\u001b[0m \u001b[38;5;124;03m\"\"\"\u001b[39;00m\n\u001b[0;32m   4784\u001b[0m \u001b[38;5;28;01mif\u001b[39;00m \u001b[38;5;129;01mnot\u001b[39;00m \u001b[38;5;28misinstance\u001b[39m(col, Column):\n\u001b[1;32m-> 4785\u001b[0m     \u001b[38;5;28;01mraise\u001b[39;00m PySparkTypeError(\n\u001b[0;32m   4786\u001b[0m         error_class\u001b[38;5;241m=\u001b[39m\u001b[38;5;124m\"\u001b[39m\u001b[38;5;124mNOT_COLUMN\u001b[39m\u001b[38;5;124m\"\u001b[39m,\n\u001b[0;32m   4787\u001b[0m         message_parameters\u001b[38;5;241m=\u001b[39m{\u001b[38;5;124m\"\u001b[39m\u001b[38;5;124marg_name\u001b[39m\u001b[38;5;124m\"\u001b[39m: \u001b[38;5;124m\"\u001b[39m\u001b[38;5;124mcol\u001b[39m\u001b[38;5;124m\"\u001b[39m, \u001b[38;5;124m\"\u001b[39m\u001b[38;5;124marg_type\u001b[39m\u001b[38;5;124m\"\u001b[39m: \u001b[38;5;28mtype\u001b[39m(col)\u001b[38;5;241m.\u001b[39m\u001b[38;5;18m__name__\u001b[39m},\n\u001b[0;32m   4788\u001b[0m     )\n\u001b[0;32m   4789\u001b[0m \u001b[38;5;28;01mreturn\u001b[39;00m DataFrame(\u001b[38;5;28mself\u001b[39m\u001b[38;5;241m.\u001b[39m_jdf\u001b[38;5;241m.\u001b[39mwithColumn(colName, col\u001b[38;5;241m.\u001b[39m_jc), \u001b[38;5;28mself\u001b[39m\u001b[38;5;241m.\u001b[39msparkSession)\n",
      "\u001b[1;31mPySparkTypeError\u001b[0m: [NOT_COLUMN] Argument `col` should be a Column, got str."
     ]
    }
   ],
   "source": [
    "df.select('id','firstName','lastName').withColumn('fn','firstName')"
   ]
  },
  {
   "cell_type": "code",
   "execution_count": 17,
   "id": "0aa8f050-b209-46d3-b773-309a97933600",
   "metadata": {
    "tags": []
   },
   "outputs": [],
   "source": [
    "from pyspark.sql.functions import col"
   ]
  },
  {
   "cell_type": "code",
   "execution_count": 22,
   "id": "1f5780d4-9756-496c-be9e-1126876182af",
   "metadata": {
    "tags": []
   },
   "outputs": [
    {
     "name": "stdout",
     "output_type": "stream",
     "text": [
      "+---+---------+---------+-------+\n",
      "| id|firstName| lastName|     fn|\n",
      "+---+---------+---------+-------+\n",
      "|  1|    Terry| Medhurst|  Terry|\n",
      "|  2|  Sheldon|  Quigley|Sheldon|\n",
      "|  3|  Terrill|    Hills|Terrill|\n",
      "|  4|    Miles|Cummerata|  Miles|\n",
      "|  5|    Mavis|  Schultz|  Mavis|\n",
      "+---+---------+---------+-------+\n",
      "\n"
     ]
    }
   ],
   "source": [
    "df.select('id','firstName','lastName').withColumn('fn',col('firstName')).show()"
   ]
  },
  {
   "cell_type": "code",
   "execution_count": 21,
   "id": "ccbeaaba-43ae-49b2-9755-779401876f18",
   "metadata": {
    "tags": []
   },
   "outputs": [
    {
     "name": "stdout",
     "output_type": "stream",
     "text": [
      "+---+---------+---------+-------+\n",
      "| id|firstName| lastName|     fn|\n",
      "+---+---------+---------+-------+\n",
      "|  1|    Terry| Medhurst|  Terry|\n",
      "|  2|  Sheldon|  Quigley|Sheldon|\n",
      "|  3|  Terrill|    Hills|Terrill|\n",
      "|  4|    Miles|Cummerata|  Miles|\n",
      "|  5|    Mavis|  Schultz|  Mavis|\n",
      "+---+---------+---------+-------+\n",
      "\n"
     ]
    }
   ],
   "source": [
    "df.select('id','firstName','lastName').withColumn('fn',df['firstName']).show()"
   ]
  },
  {
   "cell_type": "markdown",
   "id": "96d90b5c-f3b2-49d4-b436-a5d5569a5df9",
   "metadata": {},
   "source": [
    "## Add another column by name 'course_count' wher it contain number of courses the user of enrolled for."
   ]
  },
  {
   "cell_type": "code",
   "execution_count": 24,
   "id": "df0d0ef4-8877-4be8-b494-73dde04a1530",
   "metadata": {
    "tags": []
   },
   "outputs": [
    {
     "name": "stdout",
     "output_type": "stream",
     "text": [
      "+---+-------+\n",
      "| id|courses|\n",
      "+---+-------+\n",
      "|  1| [1, 2]|\n",
      "|  2|    [3]|\n",
      "|  3| [2, 4]|\n",
      "|  4|     []|\n",
      "|  5|     []|\n",
      "+---+-------+\n",
      "\n"
     ]
    }
   ],
   "source": [
    "df.select('id','courses').show()"
   ]
  },
  {
   "cell_type": "code",
   "execution_count": 25,
   "id": "b2269ac8-6543-48d0-ab51-57f50eaafcd6",
   "metadata": {
    "tags": []
   },
   "outputs": [
    {
     "data": {
      "text/plain": [
       "[('id', 'bigint'), ('courses', 'array<bigint>')]"
      ]
     },
     "execution_count": 25,
     "metadata": {},
     "output_type": "execute_result"
    }
   ],
   "source": [
    "df.select('id','courses').dtypes"
   ]
  },
  {
   "cell_type": "code",
   "execution_count": 27,
   "id": "3a1b5543-3a9e-4cb7-a3c5-269d0cc9045c",
   "metadata": {
    "tags": []
   },
   "outputs": [],
   "source": [
    "from pyspark.sql.functions import size"
   ]
  },
  {
   "cell_type": "code",
   "execution_count": 28,
   "id": "01e9fee8-f9a9-482b-b6c4-1de92255b970",
   "metadata": {
    "tags": []
   },
   "outputs": [
    {
     "name": "stdout",
     "output_type": "stream",
     "text": [
      "+---+-------+------------+\n",
      "| id|courses|course_count|\n",
      "+---+-------+------------+\n",
      "|  1| [1, 2]|           2|\n",
      "|  2|    [3]|           1|\n",
      "|  3| [2, 4]|           2|\n",
      "|  4|     []|           0|\n",
      "|  5|     []|           0|\n",
      "+---+-------+------------+\n",
      "\n"
     ]
    }
   ],
   "source": [
    "df.select('id','courses').withColumn('course_count',size('courses')).show()"
   ]
  },
  {
   "cell_type": "code",
   "execution_count": null,
   "id": "4bb6aad6-6382-4de5-afe0-2bed76c30d9c",
   "metadata": {},
   "outputs": [],
   "source": []
  }
 ],
 "metadata": {
  "kernelspec": {
   "display_name": "Python 3 (ipykernel)",
   "language": "python",
   "name": "python3"
  },
  "language_info": {
   "codemirror_mode": {
    "name": "ipython",
    "version": 3
   },
   "file_extension": ".py",
   "mimetype": "text/x-python",
   "name": "python",
   "nbconvert_exporter": "python",
   "pygments_lexer": "ipython3",
   "version": "3.11.4"
  },
  "toc-autonumbering": false,
  "toc-showcode": true,
  "toc-showmarkdowntxt": true
 },
 "nbformat": 4,
 "nbformat_minor": 5
}
