{
 "cells": [
  {
   "cell_type": "code",
   "execution_count": 1,
   "id": "a5805e54-c45b-4e19-bb60-d19c75a255c8",
   "metadata": {
    "tags": []
   },
   "outputs": [],
   "source": [
    "import findspark\n",
    "findspark.init()\n",
    "from pyspark.sql import SparkSession\n",
    "spark = SparkSession.builder.master('local[1]').appName('pyspark_fresh').getOrCreate()"
   ]
  },
  {
   "cell_type": "code",
   "execution_count": 2,
   "id": "82262c73-cd15-4c03-8326-9383f50b3ca7",
   "metadata": {
    "tags": []
   },
   "outputs": [],
   "source": [
    "from pyspark.sql import Row"
   ]
  },
  {
   "cell_type": "code",
   "execution_count": 3,
   "id": "e8fe92fc-9472-472f-b2a1-50f0db024e5c",
   "metadata": {
    "tags": []
   },
   "outputs": [],
   "source": [
    "import datetime\n",
    "data= [{\n",
    "    \"id\":1,\n",
    "    \"firstName\":\"Terry\",\n",
    "    \"lastName\":\"Medhurst\",\n",
    "    \"email\":\"atuny0@sohu.com\",\n",
    "    \"phone\":Row(phone_number = \"+63 791 675 8914\",mobile_number = \"+63 791 675 8945\"),\n",
    "    \"courses\" : [1,2],\n",
    "    \"is_customer\" : True,\n",
    "    \"amount_paid\" : 10200,\n",
    "    \"customer_from\" : datetime.date(2022,3,10),\n",
    "    \"last_update_ts\" : datetime.datetime(2023,10,20, 15,0,45)\n",
    "},\n",
    "{\n",
    "    \"id\":2,\n",
    "    \"firstName\":\"Sheldon\",\n",
    "    \"lastName\":\"Quigley\",\n",
    "    \"email\":\"hbingley1@plala.or.jp\",\n",
    "    \"phone\":Row(phone_number=\"+7 813 117\",mobile_number=\"+7 813 119\"),\n",
    "    \"courses\" : [3],\n",
    "    \"is_customer\" : True,\n",
    "    \"amount_paid\" : 11000,\n",
    "    \"customer_from\" : datetime.date(2022,5,16),\n",
    "    \"last_update_ts\" : datetime.datetime(2023,10,20, 15,0,45)\n",
    "},\n",
    "{\n",
    "    \"id\":3,\n",
    "    \"firstName\":\"Terrill\",\n",
    "    \"lastName\":\"Hills\",\n",
    "    \"email\":\"rshawe2@51.la\",\n",
    "    \"phone\":Row(phone_number=\"+63 739 292 7942\",mobile_number=\"+63 739 292 7943\"),\n",
    "    \"courses\" : [2,4],\n",
    "    \"is_customer\" : True,\n",
    "    \"amount_paid\" : 24000,\n",
    "    \"customer_from\" : datetime.date(2022,4,11),\n",
    "    \"last_update_ts\" : datetime.datetime(2023,10,20, 15,0,45)\n",
    "},\n",
    "{\n",
    "    \"id\":4,\n",
    "    \"firstName\":\"Miles\",\n",
    "    \"lastName\":\"Cummerata\",\n",
    "    \"email\":\"yraigatt3@nature.com\",\n",
    "    \"phone\":Row(phone_number=None,mobile_number=None),\n",
    "    \"courses\" : [],\n",
    "    \"is_customer\" : False,\n",
    "    \"amount_paid\" : None,\n",
    "    \"customer_from\" : None,\n",
    "    \"last_update_ts\" : datetime.datetime(2023,10,20, 15,0,45)\n",
    "},\n",
    "{\n",
    "    \"id\":5,\n",
    "    \"firstName\":\"Mavis\",\n",
    "    \"lastName\":\"Schultz\",\n",
    "    \"email\":\"kmeus4@upenn.edu\",\n",
    "    \"phone\":Row(phone_number=\"+372 285 771 1911\",mobile_number=None),\n",
    "    \"courses\" : [],\n",
    "    \"is_customer\" : False,\n",
    "    \"amount_paid\" : None,\n",
    "    \"customer_from\" : None,\n",
    "    \"last_update_ts\" : datetime.datetime(2023,10,20, 15,0,45)\n",
    "}]"
   ]
  },
  {
   "cell_type": "code",
   "execution_count": 4,
   "id": "c11ad7c0-55c4-4d96-8dc0-a9b436ef0b2d",
   "metadata": {
    "tags": []
   },
   "outputs": [],
   "source": [
    "import pandas as pd"
   ]
  },
  {
   "cell_type": "code",
   "execution_count": 5,
   "id": "195f7b60-1c7a-47ca-856f-90a70b3e06c7",
   "metadata": {
    "tags": []
   },
   "outputs": [],
   "source": [
    "df = spark.createDataFrame(pd.DataFrame(data))"
   ]
  },
  {
   "cell_type": "code",
   "execution_count": 6,
   "id": "95e85826-d089-4ed4-b8a6-03e51144bd44",
   "metadata": {
    "tags": []
   },
   "outputs": [
    {
     "name": "stdout",
     "output_type": "stream",
     "text": [
      "+---+---------+---------+--------------------+--------------------+-------+-----------+-----------+-------------+-------------------+\n",
      "| id|firstName| lastName|               email|               phone|courses|is_customer|amount_paid|customer_from|     last_update_ts|\n",
      "+---+---------+---------+--------------------+--------------------+-------+-----------+-----------+-------------+-------------------+\n",
      "|  1|    Terry| Medhurst|     atuny0@sohu.com|{+63 791 675 8914...| [1, 2]|       true|    10200.0|   2022-03-10|2023-10-20 15:00:45|\n",
      "|  2|  Sheldon|  Quigley|hbingley1@plala.o...|{+7 813 117, +7 8...|    [3]|       true|    11000.0|   2022-05-16|2023-10-20 15:00:45|\n",
      "|  3|  Terrill|    Hills|       rshawe2@51.la|{+63 739 292 7942...| [2, 4]|       true|    24000.0|   2022-04-11|2023-10-20 15:00:45|\n",
      "|  4|    Miles|Cummerata|yraigatt3@nature.com|        {null, null}|     []|      false|        NaN|         null|2023-10-20 15:00:45|\n",
      "|  5|    Mavis|  Schultz|    kmeus4@upenn.edu|{+372 285 771 191...|     []|      false|        NaN|         null|2023-10-20 15:00:45|\n",
      "+---+---------+---------+--------------------+--------------------+-------+-----------+-----------+-------------+-------------------+\n",
      "\n"
     ]
    }
   ],
   "source": [
    "df.show()"
   ]
  },
  {
   "cell_type": "code",
   "execution_count": 7,
   "id": "0e8b0a40-4c4f-4f8d-bc23-70ef43e9a6b9",
   "metadata": {
    "tags": []
   },
   "outputs": [],
   "source": [
    "required_columns = ['id','firstName','lastName','email','phone','courses']\n",
    "\n",
    "targeted_columns = ['user_id','user_first_name','user_last_name','user_email','user_phone','enrolled_courses']"
   ]
  },
  {
   "cell_type": "markdown",
   "id": "60a2c5c5-945f-4608-bc05-526631d8b624",
   "metadata": {},
   "source": [
    "- Get the data from required columns and rename the columns to new names as per target column names.\n",
    "- We should be able to use select to get the data from required columns.\n",
    "- We should be able to rename the columns using toDF\n",
    "- select and toDF takes variable number of arguments. We can use *required_columns while invoking select to get the data from required columns.\n",
    "It is applicable for toDF as well."
   ]
  },
  {
   "cell_type": "code",
   "execution_count": 8,
   "id": "a20a6463-fb00-4f7f-923b-8b72eac4465d",
   "metadata": {
    "tags": []
   },
   "outputs": [
    {
     "name": "stdout",
     "output_type": "stream",
     "text": [
      "Help on method toDF in module pyspark.sql.dataframe:\n",
      "\n",
      "toDF(*cols: str) -> 'DataFrame' method of pyspark.sql.dataframe.DataFrame instance\n",
      "    Returns a new :class:`DataFrame` that with new specified column names\n",
      "    \n",
      "    .. versionchanged:: 3.4.0\n",
      "        Supports Spark Connect.\n",
      "    \n",
      "    Parameters\n",
      "    ----------\n",
      "    *cols : tuple\n",
      "        a tuple of string new column name. The length of the\n",
      "        list needs to be the same as the number of columns in the initial\n",
      "        :class:`DataFrame`\n",
      "    \n",
      "    Returns\n",
      "    -------\n",
      "    :class:`DataFrame`\n",
      "        DataFrame with new column names.\n",
      "    \n",
      "    Examples\n",
      "    --------\n",
      "    >>> df = spark.createDataFrame([(14, \"Tom\"), (23, \"Alice\"),\n",
      "    ...     (16, \"Bob\")], [\"age\", \"name\"])\n",
      "    >>> df.toDF('f1', 'f2').show()\n",
      "    +---+-----+\n",
      "    | f1|   f2|\n",
      "    +---+-----+\n",
      "    | 14|  Tom|\n",
      "    | 23|Alice|\n",
      "    | 16|  Bob|\n",
      "    +---+-----+\n",
      "\n"
     ]
    }
   ],
   "source": [
    "help(df.toDF)"
   ]
  },
  {
   "cell_type": "code",
   "execution_count": 9,
   "id": "d0eb3382-2a61-4640-a285-f524a83074ee",
   "metadata": {
    "tags": []
   },
   "outputs": [
    {
     "name": "stdout",
     "output_type": "stream",
     "text": [
      "+---+---------+---------+--------------------+--------------------+-------+\n",
      "| id|firstName| lastName|               email|               phone|courses|\n",
      "+---+---------+---------+--------------------+--------------------+-------+\n",
      "|  1|    Terry| Medhurst|     atuny0@sohu.com|{+63 791 675 8914...| [1, 2]|\n",
      "|  2|  Sheldon|  Quigley|hbingley1@plala.o...|{+7 813 117, +7 8...|    [3]|\n",
      "|  3|  Terrill|    Hills|       rshawe2@51.la|{+63 739 292 7942...| [2, 4]|\n",
      "|  4|    Miles|Cummerata|yraigatt3@nature.com|        {null, null}|     []|\n",
      "|  5|    Mavis|  Schultz|    kmeus4@upenn.edu|{+372 285 771 191...|     []|\n",
      "+---+---------+---------+--------------------+--------------------+-------+\n",
      "\n"
     ]
    }
   ],
   "source": [
    "df.select(required_columns).show()"
   ]
  },
  {
   "cell_type": "code",
   "execution_count": 10,
   "id": "c428daea-0925-429e-80fe-d9499ca2198c",
   "metadata": {
    "tags": []
   },
   "outputs": [
    {
     "ename": "IllegalArgumentException",
     "evalue": "requirement failed: The number of columns doesn't match.\nOld column names (6): id, firstName, lastName, email, phone, courses\nNew column names (1): [user_id, user_first_name, user_last_name, user_email, user_phone, enrolled_courses]",
     "output_type": "error",
     "traceback": [
      "\u001b[1;31m---------------------------------------------------------------------------\u001b[0m",
      "\u001b[1;31mIllegalArgumentException\u001b[0m                  Traceback (most recent call last)",
      "Cell \u001b[1;32mIn[10], line 3\u001b[0m\n\u001b[0;32m      1\u001b[0m df\u001b[38;5;241m.\u001b[39m\\\n\u001b[0;32m      2\u001b[0m select(required_columns)\u001b[38;5;241m.\u001b[39m\\\n\u001b[1;32m----> 3\u001b[0m toDF(targeted_columns)\u001b[38;5;241m.\u001b[39mshow()\n",
      "File \u001b[1;32m~\\AppData\\Local\\anaconda3\\Lib\\site-packages\\pyspark\\sql\\dataframe.py:5024\u001b[0m, in \u001b[0;36mDataFrame.toDF\u001b[1;34m(self, *cols)\u001b[0m\n\u001b[0;32m   4993\u001b[0m \u001b[38;5;28;01mdef\u001b[39;00m \u001b[38;5;21mtoDF\u001b[39m(\u001b[38;5;28mself\u001b[39m, \u001b[38;5;241m*\u001b[39mcols: \u001b[38;5;28mstr\u001b[39m) \u001b[38;5;241m-\u001b[39m\u001b[38;5;241m>\u001b[39m \u001b[38;5;124m\"\u001b[39m\u001b[38;5;124mDataFrame\u001b[39m\u001b[38;5;124m\"\u001b[39m:\n\u001b[0;32m   4994\u001b[0m \u001b[38;5;250m    \u001b[39m\u001b[38;5;124;03m\"\"\"Returns a new :class:`DataFrame` that with new specified column names\u001b[39;00m\n\u001b[0;32m   4995\u001b[0m \n\u001b[0;32m   4996\u001b[0m \u001b[38;5;124;03m    .. versionchanged:: 3.4.0\u001b[39;00m\n\u001b[1;32m   (...)\u001b[0m\n\u001b[0;32m   5022\u001b[0m \u001b[38;5;124;03m    +---+-----+\u001b[39;00m\n\u001b[0;32m   5023\u001b[0m \u001b[38;5;124;03m    \"\"\"\u001b[39;00m\n\u001b[1;32m-> 5024\u001b[0m     jdf \u001b[38;5;241m=\u001b[39m \u001b[38;5;28mself\u001b[39m\u001b[38;5;241m.\u001b[39m_jdf\u001b[38;5;241m.\u001b[39mtoDF(\u001b[38;5;28mself\u001b[39m\u001b[38;5;241m.\u001b[39m_jseq(cols))\n\u001b[0;32m   5025\u001b[0m     \u001b[38;5;28;01mreturn\u001b[39;00m DataFrame(jdf, \u001b[38;5;28mself\u001b[39m\u001b[38;5;241m.\u001b[39msparkSession)\n",
      "File \u001b[1;32m~\\AppData\\Local\\anaconda3\\Lib\\site-packages\\py4j\\java_gateway.py:1322\u001b[0m, in \u001b[0;36mJavaMember.__call__\u001b[1;34m(self, *args)\u001b[0m\n\u001b[0;32m   1316\u001b[0m command \u001b[38;5;241m=\u001b[39m proto\u001b[38;5;241m.\u001b[39mCALL_COMMAND_NAME \u001b[38;5;241m+\u001b[39m\\\n\u001b[0;32m   1317\u001b[0m     \u001b[38;5;28mself\u001b[39m\u001b[38;5;241m.\u001b[39mcommand_header \u001b[38;5;241m+\u001b[39m\\\n\u001b[0;32m   1318\u001b[0m     args_command \u001b[38;5;241m+\u001b[39m\\\n\u001b[0;32m   1319\u001b[0m     proto\u001b[38;5;241m.\u001b[39mEND_COMMAND_PART\n\u001b[0;32m   1321\u001b[0m answer \u001b[38;5;241m=\u001b[39m \u001b[38;5;28mself\u001b[39m\u001b[38;5;241m.\u001b[39mgateway_client\u001b[38;5;241m.\u001b[39msend_command(command)\n\u001b[1;32m-> 1322\u001b[0m return_value \u001b[38;5;241m=\u001b[39m get_return_value(\n\u001b[0;32m   1323\u001b[0m     answer, \u001b[38;5;28mself\u001b[39m\u001b[38;5;241m.\u001b[39mgateway_client, \u001b[38;5;28mself\u001b[39m\u001b[38;5;241m.\u001b[39mtarget_id, \u001b[38;5;28mself\u001b[39m\u001b[38;5;241m.\u001b[39mname)\n\u001b[0;32m   1325\u001b[0m \u001b[38;5;28;01mfor\u001b[39;00m temp_arg \u001b[38;5;129;01min\u001b[39;00m temp_args:\n\u001b[0;32m   1326\u001b[0m     \u001b[38;5;28;01mif\u001b[39;00m \u001b[38;5;28mhasattr\u001b[39m(temp_arg, \u001b[38;5;124m\"\u001b[39m\u001b[38;5;124m_detach\u001b[39m\u001b[38;5;124m\"\u001b[39m):\n",
      "File \u001b[1;32m~\\AppData\\Local\\anaconda3\\Lib\\site-packages\\pyspark\\errors\\exceptions\\captured.py:175\u001b[0m, in \u001b[0;36mcapture_sql_exception.<locals>.deco\u001b[1;34m(*a, **kw)\u001b[0m\n\u001b[0;32m    171\u001b[0m converted \u001b[38;5;241m=\u001b[39m convert_exception(e\u001b[38;5;241m.\u001b[39mjava_exception)\n\u001b[0;32m    172\u001b[0m \u001b[38;5;28;01mif\u001b[39;00m \u001b[38;5;129;01mnot\u001b[39;00m \u001b[38;5;28misinstance\u001b[39m(converted, UnknownException):\n\u001b[0;32m    173\u001b[0m     \u001b[38;5;66;03m# Hide where the exception came from that shows a non-Pythonic\u001b[39;00m\n\u001b[0;32m    174\u001b[0m     \u001b[38;5;66;03m# JVM exception message.\u001b[39;00m\n\u001b[1;32m--> 175\u001b[0m     \u001b[38;5;28;01mraise\u001b[39;00m converted \u001b[38;5;28;01mfrom\u001b[39;00m \u001b[38;5;28;01mNone\u001b[39;00m\n\u001b[0;32m    176\u001b[0m \u001b[38;5;28;01melse\u001b[39;00m:\n\u001b[0;32m    177\u001b[0m     \u001b[38;5;28;01mraise\u001b[39;00m\n",
      "\u001b[1;31mIllegalArgumentException\u001b[0m: requirement failed: The number of columns doesn't match.\nOld column names (6): id, firstName, lastName, email, phone, courses\nNew column names (1): [user_id, user_first_name, user_last_name, user_email, user_phone, enrolled_courses]"
     ]
    }
   ],
   "source": [
    "df.\\\n",
    "select(required_columns).\\\n",
    "toDF(targeted_columns).show()"
   ]
  },
  {
   "cell_type": "code",
   "execution_count": 11,
   "id": "d0b3422b-2b98-410a-bc93-a604a47f4809",
   "metadata": {
    "tags": []
   },
   "outputs": [
    {
     "name": "stdout",
     "output_type": "stream",
     "text": [
      "+-------+---------------+--------------+--------------------+--------------------+----------------+\n",
      "|user_id|user_first_name|user_last_name|          user_email|          user_phone|enrolled_courses|\n",
      "+-------+---------------+--------------+--------------------+--------------------+----------------+\n",
      "|      1|          Terry|      Medhurst|     atuny0@sohu.com|{+63 791 675 8914...|          [1, 2]|\n",
      "|      2|        Sheldon|       Quigley|hbingley1@plala.o...|{+7 813 117, +7 8...|             [3]|\n",
      "|      3|        Terrill|         Hills|       rshawe2@51.la|{+63 739 292 7942...|          [2, 4]|\n",
      "|      4|          Miles|     Cummerata|yraigatt3@nature.com|        {null, null}|              []|\n",
      "|      5|          Mavis|       Schultz|    kmeus4@upenn.edu|{+372 285 771 191...|              []|\n",
      "+-------+---------------+--------------+--------------------+--------------------+----------------+\n",
      "\n"
     ]
    }
   ],
   "source": [
    "df.\\\n",
    "select(required_columns).\\\n",
    "toDF(*targeted_columns).show()"
   ]
  },
  {
   "cell_type": "code",
   "execution_count": null,
   "id": "cc39e7bd-e705-4eca-8ee2-7f91929b92cb",
   "metadata": {},
   "outputs": [],
   "source": []
  }
 ],
 "metadata": {
  "kernelspec": {
   "display_name": "Python 3 (ipykernel)",
   "language": "python",
   "name": "python3"
  },
  "language_info": {
   "codemirror_mode": {
    "name": "ipython",
    "version": 3
   },
   "file_extension": ".py",
   "mimetype": "text/x-python",
   "name": "python",
   "nbconvert_exporter": "python",
   "pygments_lexer": "ipython3",
   "version": "3.11.4"
  }
 },
 "nbformat": 4,
 "nbformat_minor": 5
}
