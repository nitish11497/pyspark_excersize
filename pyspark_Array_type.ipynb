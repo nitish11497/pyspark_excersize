{
 "cells": [
  {
   "cell_type": "code",
   "execution_count": 1,
   "id": "235b0a5b-054a-4629-aea2-95ba3a1957c0",
   "metadata": {
    "tags": []
   },
   "outputs": [],
   "source": [
    "import findspark\n",
    "findspark.init()\n",
    "from pyspark.sql import SparkSession\n",
    "spark = SparkSession.builder.master('local[1]').appName('pyspark_fresh').getOrCreate()"
   ]
  },
  {
   "cell_type": "code",
   "execution_count": 2,
   "id": "172371f1-0c69-42d1-8d0b-be821284f0d0",
   "metadata": {
    "tags": []
   },
   "outputs": [],
   "source": [
    "import datetime\n",
    "data1= [{\n",
    "    \"id\":1,\n",
    "    \"firstName\":\"Terry\",\n",
    "    \"lastName\":\"Medhurst\",\n",
    "    \"maidenName\":\"Smitham\",\n",
    "    \"age\":50,\n",
    "    \"gender\":\"male\",\n",
    "    \"email\":\"atuny0@sohu.com\",\n",
    "    \"phone\":{\"phone_number\":\"+63 791 675 8914\",\"mobile_number\":\"+63 791 675 8915\"},\n",
    "    \"is_customer\" : True,\n",
    "    \"amount_paid\" : 10200,\n",
    "    \"customer_from\" : datetime.date(2022,3,10),\n",
    "    \"last_update_ts\" : datetime.datetime(2023,10,20, 15,0,45)\n",
    "},\n",
    "{\n",
    "    \"id\":2,\n",
    "    \"firstName\":\"Sheldon\",\n",
    "    \"lastName\":\"Quigley\",\n",
    "    \"maidenName\":\"Cole\",\n",
    "    \"age\":28,\"gender\":\"male\",\n",
    "    \"email\":\"hbingley1@plala.or.jp\",\n",
    "    \"phone\":{\"phone_number\":\"+7 813 117\",\"mobile_number\":\"+7 813 118\"},\n",
    "    \"is_customer\" : True,\n",
    "    \"amount_paid\" : 11000,\n",
    "    \"customer_from\" : datetime.date(2022,5,16),\n",
    "    \"last_update_ts\" : datetime.datetime(2023,10,20, 15,0,45)\n",
    "},\n",
    "{\n",
    "    \"id\":3,\n",
    "    \"firstName\":\"Terrill\",\n",
    "    \"lastName\":\"Hills\",\n",
    "    \"maidenName\":\"Hoeger\",\n",
    "    \"age\":38,\n",
    "    \"gender\":\"male\",\n",
    "    \"email\":\"rshawe2@51.la\",\n",
    "    \"phone\":{\"phone_number\":\"+63 739 292 7942\",\"mobile_number\":\"+63 739 292 7943\"},\n",
    "    \"is_customer\" : True,\n",
    "    \"amount_paid\" : 24000,\n",
    "    \"customer_from\" : datetime.date(2022,4,11),\n",
    "    \"last_update_ts\" : datetime.datetime(2023,10,20, 15,0,45)\n",
    "},\n",
    "{\n",
    "    \"id\":4,\n",
    "    \"firstName\":\"Miles\",\n",
    "    \"lastName\":\"Cummerata\",\n",
    "    \"maidenName\":\"Maggio\",\n",
    "    \"age\":49,\n",
    "    \"gender\":\"male\",\n",
    "    \"email\":\"yraigatt3@nature.com\",\n",
    "    \"phone\":{\"phone_number\":\"+86 461 145 4186\",\"mobile_number\":\"+86 461 145 4188\"},\n",
    "    \"is_customer\" : True,\n",
    "    \"amount_paid\" : 10500,\n",
    "    \"customer_from\" : datetime.date(2022,8,21),\n",
    "    \"last_update_ts\" : datetime.datetime(2023,10,20, 15,0,45)\n",
    "},\n",
    "{\n",
    "    \"id\":5,\n",
    "    \"firstName\":\"Mavis\",\n",
    "    \"lastName\":\"Schultz\",\n",
    "    \"maidenName\":\"Yundt\",\n",
    "    \"age\":38,\n",
    "    \"gender\":\"male\",\n",
    "    \"email\":\"kmeus4@upenn.edu\",\n",
    "    \"phone\":{\"phone_number\":\"+372 285 771 1911\",\"mobile_number\":\"+372 285 771 1912\"},\n",
    "    \"is_customer\" : True,\n",
    "    \"amount_paid\" : 10000,\n",
    "    \"customer_from\" : datetime.date(2022,5,1),\n",
    "    \"last_update_ts\" : datetime.datetime(2023,10,20, 15,0,45)\n",
    "}]"
   ]
  },
  {
   "cell_type": "code",
   "execution_count": 3,
   "id": "5331ea50-52b8-4ffb-981d-492c1a27c027",
   "metadata": {
    "tags": []
   },
   "outputs": [],
   "source": [
    "import datetime\n",
    "data= [{\n",
    "    \"id\":1,\n",
    "    \"firstName\":\"Terry\",\n",
    "    \"lastName\":\"Medhurst\",\n",
    "    \"maidenName\":\"Smitham\",\n",
    "    \"age\":50,\n",
    "    \"gender\":\"male\",\n",
    "    \"email\":\"atuny0@sohu.com\",\n",
    "    \"phone\":[\"+63 791 675 8914\",\"+63 791 675 8915\"],\n",
    "    \"is_customer\" : True,\n",
    "    \"amount_paid\" : 10200,\n",
    "    \"customer_from\" : datetime.date(2022,3,10),\n",
    "    \"last_update_ts\" : datetime.datetime(2023,10,20, 15,0,45)\n",
    "},\n",
    "{\n",
    "    \"id\":2,\n",
    "    \"firstName\":\"Sheldon\",\n",
    "    \"lastName\":\"Quigley\",\n",
    "    \"maidenName\":\"Cole\",\n",
    "    \"age\":28,\"gender\":\"male\",\n",
    "    \"email\":\"hbingley1@plala.or.jp\",\n",
    "    \"phone\":[\"+7 813 117\",\"+7 813 118\"],\n",
    "    \"is_customer\" : True,\n",
    "    \"amount_paid\" : 11000,\n",
    "    \"customer_from\" : datetime.date(2022,5,16),\n",
    "    \"last_update_ts\" : datetime.datetime(2023,10,20, 15,0,45)\n",
    "},\n",
    "{\n",
    "    \"id\":3,\n",
    "    \"firstName\":\"Terrill\",\n",
    "    \"lastName\":\"Hills\",\n",
    "    \"maidenName\":\"Hoeger\",\n",
    "    \"age\":38,\n",
    "    \"gender\":\"male\",\n",
    "    \"email\":\"rshawe2@51.la\",\n",
    "    \"phone\":[\"+63 739 292 7942\"],\n",
    "    \"is_customer\" : True,\n",
    "    \"amount_paid\" : 24000,\n",
    "    \"customer_from\" : datetime.date(2022,4,11),\n",
    "    \"last_update_ts\" : datetime.datetime(2023,10,20, 15,0,45)\n",
    "},\n",
    "{\n",
    "    \"id\":4,\n",
    "    \"firstName\":\"Miles\",\n",
    "    \"lastName\":\"Cummerata\",\n",
    "    \"maidenName\":\"Maggio\",\n",
    "    \"age\":49,\n",
    "    \"gender\":\"male\",\n",
    "    \"email\":\"yraigatt3@nature.com\",\n",
    "    \"phone\":[\"+86 461 145 4186\",\"+86 461 145 4188\"],\n",
    "    \"is_customer\" : True,\n",
    "    \"amount_paid\" : 10500,\n",
    "    \"customer_from\" : datetime.date(2022,8,21),\n",
    "    \"last_update_ts\" : datetime.datetime(2023,10,20, 15,0,45)\n",
    "},\n",
    "{\n",
    "    \"id\":5,\n",
    "    \"firstName\":\"Mavis\",\n",
    "    \"lastName\":\"Schultz\",\n",
    "    \"maidenName\":\"Yundt\",\n",
    "    \"age\":38,\n",
    "    \"gender\":\"male\",\n",
    "    \"email\":\"kmeus4@upenn.edu\",\n",
    "    \"phone\":[\"+372 285 771 1911\",\"+372 285 771 1912\"],\n",
    "    \"is_customer\" : False,\n",
    "    \"amount_paid\" : None,\n",
    "    \"customer_from\" : datetime.date(2022,5,1),\n",
    "    \"last_update_ts\" : datetime.datetime(2023,10,20, 15,0,45)\n",
    "}]"
   ]
  },
  {
   "cell_type": "code",
   "execution_count": 4,
   "id": "53d620fb-920b-44e0-a6f9-38067d98c328",
   "metadata": {
    "tags": []
   },
   "outputs": [],
   "source": [
    "from pyspark.sql import Row"
   ]
  },
  {
   "cell_type": "code",
   "execution_count": 9,
   "id": "e9096e11-a082-4e47-bb40-d104436e55df",
   "metadata": {
    "tags": []
   },
   "outputs": [],
   "source": [
    "user_rows = [Row(**user) for user in data]"
   ]
  },
  {
   "cell_type": "code",
   "execution_count": 10,
   "id": "7d492d6e-a630-43a6-8e30-507dc629ab04",
   "metadata": {
    "tags": []
   },
   "outputs": [
    {
     "name": "stdout",
     "output_type": "stream",
     "text": [
      "+---+---------+---------+----------+---+------+--------------------+--------------------+-----------+-----------+-------------+-------------------+\n",
      "| id|firstName| lastName|maidenName|age|gender|               email|               phone|is_customer|amount_paid|customer_from|     last_update_ts|\n",
      "+---+---------+---------+----------+---+------+--------------------+--------------------+-----------+-----------+-------------+-------------------+\n",
      "|  1|    Terry| Medhurst|   Smitham| 50|  male|     atuny0@sohu.com|[+63 791 675 8914...|       true|      10200|   2022-03-10|2023-10-20 15:00:45|\n",
      "|  2|  Sheldon|  Quigley|      Cole| 28|  male|hbingley1@plala.o...|[+7 813 117, +7 8...|       true|      11000|   2022-05-16|2023-10-20 15:00:45|\n",
      "|  3|  Terrill|    Hills|    Hoeger| 38|  male|       rshawe2@51.la|  [+63 739 292 7942]|       true|      24000|   2022-04-11|2023-10-20 15:00:45|\n",
      "|  4|    Miles|Cummerata|    Maggio| 49|  male|yraigatt3@nature.com|[+86 461 145 4186...|       true|      10500|   2022-08-21|2023-10-20 15:00:45|\n",
      "|  5|    Mavis|  Schultz|     Yundt| 38|  male|    kmeus4@upenn.edu|[+372 285 771 191...|      false|       null|   2022-05-01|2023-10-20 15:00:45|\n",
      "+---+---------+---------+----------+---+------+--------------------+--------------------+-----------+-----------+-------------+-------------------+\n",
      "\n"
     ]
    }
   ],
   "source": [
    "spark.createDataFrame(user_rows).show()"
   ]
  },
  {
   "cell_type": "code",
   "execution_count": 11,
   "id": "86bb79c0-b8f2-40ee-a637-198bb84f2a26",
   "metadata": {},
   "outputs": [],
   "source": [
    "df = spark.createDataFrame(user_rows)"
   ]
  },
  {
   "cell_type": "code",
   "execution_count": 12,
   "id": "4e365b70-6d83-4cf1-bf10-9be75a986c3f",
   "metadata": {
    "tags": []
   },
   "outputs": [
    {
     "data": {
      "text/plain": [
       "[('id', 'bigint'),\n",
       " ('firstName', 'string'),\n",
       " ('lastName', 'string'),\n",
       " ('maidenName', 'string'),\n",
       " ('age', 'bigint'),\n",
       " ('gender', 'string'),\n",
       " ('email', 'string'),\n",
       " ('phone', 'array<string>'),\n",
       " ('is_customer', 'boolean'),\n",
       " ('amount_paid', 'bigint'),\n",
       " ('customer_from', 'date'),\n",
       " ('last_update_ts', 'timestamp')]"
      ]
     },
     "execution_count": 12,
     "metadata": {},
     "output_type": "execute_result"
    }
   ],
   "source": [
    "df.dtypes"
   ]
  },
  {
   "cell_type": "code",
   "execution_count": 13,
   "id": "967f6ce8-39cf-472f-9e3a-c663d0e3a6f6",
   "metadata": {
    "tags": []
   },
   "outputs": [
    {
     "name": "stdout",
     "output_type": "stream",
     "text": [
      "+---+--------------------------------------+\n",
      "|id |phone                                 |\n",
      "+---+--------------------------------------+\n",
      "|1  |[+63 791 675 8914, +63 791 675 8915]  |\n",
      "|2  |[+7 813 117, +7 813 118]              |\n",
      "|3  |[+63 739 292 7942]                    |\n",
      "|4  |[+86 461 145 4186, +86 461 145 4188]  |\n",
      "|5  |[+372 285 771 1911, +372 285 771 1912]|\n",
      "+---+--------------------------------------+\n",
      "\n"
     ]
    }
   ],
   "source": [
    "df.select('id','phone').show(truncate=False)"
   ]
  },
  {
   "cell_type": "code",
   "execution_count": null,
   "id": "86f9fc12-2324-4800-b658-91d8c8eb6b9b",
   "metadata": {
    "tags": []
   },
   "outputs": [],
   "source": [
    "from pyspark.sql.functions import col"
   ]
  },
  {
   "cell_type": "code",
   "execution_count": null,
   "id": "a1a75c9f-e368-418c-9457-2b20a0f97803",
   "metadata": {
    "tags": []
   },
   "outputs": [],
   "source": [
    "df.select('id',col('phone')[0].alias('Mobile'),col('phone')[1].alias(\"Phone\")).show()"
   ]
  },
  {
   "cell_type": "code",
   "execution_count": null,
   "id": "3348d3ad-0194-437f-a438-f07944686068",
   "metadata": {
    "tags": []
   },
   "outputs": [],
   "source": [
    "from pyspark.sql.functions import explode"
   ]
  },
  {
   "cell_type": "code",
   "execution_count": null,
   "id": "4f0b25f3-6ff8-432e-bdeb-14aec092e16c",
   "metadata": {
    "tags": []
   },
   "outputs": [],
   "source": [
    "df.withColumn('phone_number',explode('phone')).drop('phone').show()"
   ]
  },
  {
   "cell_type": "code",
   "execution_count": 14,
   "id": "d12fc1e4-5d34-4f78-b692-0dece983b49a",
   "metadata": {
    "tags": []
   },
   "outputs": [],
   "source": [
    "from pyspark.sql.functions import explode_outer"
   ]
  },
  {
   "cell_type": "code",
   "execution_count": 17,
   "id": "cce5cd44-8440-414d-8c42-0713b345d7f1",
   "metadata": {
    "tags": []
   },
   "outputs": [
    {
     "name": "stdout",
     "output_type": "stream",
     "text": [
      "+---+---------+---------+----------+---+------+--------------------+-----------+-----------+-------------+-------------------+-----------------+\n",
      "| id|firstName| lastName|maidenName|age|gender|               email|is_customer|amount_paid|customer_from|     last_update_ts|     phone_number|\n",
      "+---+---------+---------+----------+---+------+--------------------+-----------+-----------+-------------+-------------------+-----------------+\n",
      "|  1|    Terry| Medhurst|   Smitham| 50|  male|     atuny0@sohu.com|       true|      10200|   2022-03-10|2023-10-20 15:00:45| +63 791 675 8914|\n",
      "|  1|    Terry| Medhurst|   Smitham| 50|  male|     atuny0@sohu.com|       true|      10200|   2022-03-10|2023-10-20 15:00:45| +63 791 675 8915|\n",
      "|  2|  Sheldon|  Quigley|      Cole| 28|  male|hbingley1@plala.o...|       true|      11000|   2022-05-16|2023-10-20 15:00:45|       +7 813 117|\n",
      "|  2|  Sheldon|  Quigley|      Cole| 28|  male|hbingley1@plala.o...|       true|      11000|   2022-05-16|2023-10-20 15:00:45|       +7 813 118|\n",
      "|  3|  Terrill|    Hills|    Hoeger| 38|  male|       rshawe2@51.la|       true|      24000|   2022-04-11|2023-10-20 15:00:45| +63 739 292 7942|\n",
      "|  4|    Miles|Cummerata|    Maggio| 49|  male|yraigatt3@nature.com|       true|      10500|   2022-08-21|2023-10-20 15:00:45| +86 461 145 4186|\n",
      "|  4|    Miles|Cummerata|    Maggio| 49|  male|yraigatt3@nature.com|       true|      10500|   2022-08-21|2023-10-20 15:00:45| +86 461 145 4188|\n",
      "|  5|    Mavis|  Schultz|     Yundt| 38|  male|    kmeus4@upenn.edu|      false|       null|   2022-05-01|2023-10-20 15:00:45|+372 285 771 1911|\n",
      "|  5|    Mavis|  Schultz|     Yundt| 38|  male|    kmeus4@upenn.edu|      false|       null|   2022-05-01|2023-10-20 15:00:45|+372 285 771 1912|\n",
      "+---+---------+---------+----------+---+------+--------------------+-----------+-----------+-------------+-------------------+-----------------+\n",
      "\n"
     ]
    }
   ],
   "source": [
    "df.withColumn('phone_number',explode_outer('phone')).drop('phone').show()"
   ]
  },
  {
   "cell_type": "code",
   "execution_count": null,
   "id": "e9f8ac00-1dfa-4301-8a9f-32810507db9b",
   "metadata": {},
   "outputs": [],
   "source": []
  },
  {
   "cell_type": "code",
   "execution_count": null,
   "id": "74d38853-2300-41fb-926d-5a2d0d0767b8",
   "metadata": {},
   "outputs": [],
   "source": []
  }
 ],
 "metadata": {
  "kernelspec": {
   "display_name": "Python 3 (ipykernel)",
   "language": "python",
   "name": "python3"
  },
  "language_info": {
   "codemirror_mode": {
    "name": "ipython",
    "version": 3
   },
   "file_extension": ".py",
   "mimetype": "text/x-python",
   "name": "python",
   "nbconvert_exporter": "python",
   "pygments_lexer": "ipython3",
   "version": "3.11.4"
  }
 },
 "nbformat": 4,
 "nbformat_minor": 5
}
